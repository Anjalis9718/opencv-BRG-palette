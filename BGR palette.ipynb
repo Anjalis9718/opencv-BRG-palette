{
 "cells": [
  {
   "cell_type": "code",
   "execution_count": 1,
   "metadata": {},
   "outputs": [],
   "source": [
    "import cv2\n",
    "import numpy as np"
   ]
  },
  {
   "cell_type": "code",
   "execution_count": 3,
   "metadata": {},
   "outputs": [],
   "source": [
    "#doing nothing for now\n",
    "def emptyFunction():\n",
    "    pass"
   ]
  },
  {
   "cell_type": "code",
   "execution_count": 4,
   "metadata": {},
   "outputs": [],
   "source": [
    "def main():\n",
    "    \n",
    "    img1 = np.zeros((512, 512, 3), np.uint8)\n",
    "    windowName = 'OpenCV BGR Color Palette'\n",
    "    cv2.namedWindow(windowName)\n",
    "    \n",
    "    cv2.createTrackbar('B', windowName, 0, 255, emptyFunction)#first parameter is name,third start value max value ,function to call on scroll\n",
    "    cv2.createTrackbar('G', windowName, 0, 255, emptyFunction)\n",
    "    cv2.createTrackbar('R', windowName, 0, 255, emptyFunction)\n",
    "    \n",
    "    while(True):\n",
    "        cv2.imshow(windowName, img1)\n",
    "        \n",
    "        if cv2.waitKey(1) == 27:#key for esc key\n",
    "            break\n",
    "        \n",
    "        blue = cv2.getTrackbarPos('B', windowName)\n",
    "        green = cv2.getTrackbarPos('G', windowName)\n",
    "        red = cv2.getTrackbarPos('R', windowName)\n",
    "        \n",
    "        img1[:] = [blue, green, red]#composite image by merging all these\n",
    "        print (blue, green, red)\n",
    "        \n",
    "    cv2.destroyAllWindows()"
   ]
  },
  {
   "cell_type": "code",
   "execution_count": 6,
   "metadata": {},
   "outputs": [
    {
     "name": "stdout",
     "output_type": "stream",
     "text": [
      "0 0 0\n",
      "0 0 0\n",
      "0 0 0\n",
      "0 0 0\n",
      "0 0 0\n",
      "0 0 0\n",
      "0 0 0\n",
      "0 0 0\n",
      "0 0 0\n",
      "0 0 0\n",
      "0 0 0\n",
      "0 0 0\n",
      "0 0 0\n",
      "0 0 0\n",
      "0 0 0\n",
      "0 0 0\n",
      "0 0 0\n",
      "0 0 0\n",
      "0 0 0\n",
      "0 0 0\n",
      "0 0 0\n",
      "0 0 0\n",
      "0 0 0\n",
      "0 0 0\n",
      "0 0 0\n",
      "0 0 0\n",
      "0 0 0\n",
      "0 0 0\n",
      "0 0 0\n",
      "0 0 0\n",
      "0 0 0\n",
      "0 0 0\n",
      "0 0 0\n",
      "0 0 0\n",
      "0 0 0\n",
      "0 0 0\n",
      "0 0 0\n",
      "0 0 0\n",
      "0 0 0\n",
      "0 0 0\n",
      "0 0 0\n",
      "0 0 0\n",
      "0 0 0\n",
      "0 0 0\n",
      "0 0 0\n",
      "0 0 0\n",
      "0 0 0\n",
      "0 0 0\n",
      "0 0 0\n",
      "0 0 0\n",
      "0 0 0\n",
      "0 0 0\n",
      "0 0 0\n",
      "0 0 0\n",
      "0 0 0\n",
      "0 0 0\n",
      "0 0 0\n",
      "0 0 0\n",
      "0 0 0\n",
      "0 0 0\n",
      "0 0 0\n",
      "0 0 0\n",
      "0 0 0\n",
      "0 0 0\n",
      "0 0 0\n",
      "0 0 0\n",
      "0 0 0\n",
      "0 0 0\n",
      "0 0 0\n",
      "0 0 0\n",
      "0 0 0\n",
      "0 0 0\n",
      "0 0 0\n",
      "0 0 0\n",
      "0 0 0\n",
      "0 0 0\n",
      "0 0 0\n",
      "0 0 0\n",
      "0 0 0\n",
      "0 0 0\n",
      "0 0 0\n",
      "0 0 0\n",
      "0 0 0\n",
      "0 0 0\n",
      "0 0 0\n",
      "0 0 0\n",
      "0 0 0\n",
      "0 0 0\n",
      "0 0 0\n",
      "0 0 0\n",
      "0 0 0\n",
      "0 0 0\n",
      "0 0 0\n",
      "0 0 0\n",
      "0 0 0\n",
      "0 0 0\n",
      "0 0 0\n",
      "0 0 0\n",
      "0 0 0\n",
      "0 0 0\n",
      "0 0 0\n",
      "0 0 0\n",
      "0 0 0\n",
      "0 0 0\n",
      "0 0 0\n",
      "0 0 0\n",
      "0 0 0\n",
      "0 0 0\n",
      "0 0 0\n",
      "0 0 0\n",
      "0 0 0\n",
      "0 0 0\n",
      "0 0 0\n",
      "0 0 0\n",
      "0 0 0\n",
      "0 0 0\n",
      "0 0 0\n",
      "0 0 0\n",
      "0 0 0\n",
      "0 0 0\n",
      "0 0 0\n",
      "0 0 0\n",
      "0 0 0\n",
      "0 0 0\n",
      "0 0 0\n",
      "0 0 0\n",
      "0 0 0\n",
      "0 0 0\n",
      "0 0 0\n",
      "0 0 0\n",
      "0 0 0\n",
      "0 0 0\n",
      "0 0 0\n",
      "0 0 0\n",
      "0 0 0\n",
      "0 0 0\n",
      "0 0 0\n",
      "0 0 0\n",
      "0 0 0\n",
      "0 0 0\n",
      "0 0 0\n",
      "0 0 0\n",
      "0 0 0\n",
      "0 0 0\n",
      "0 0 0\n",
      "0 0 0\n",
      "0 0 0\n",
      "0 0 0\n",
      "0 0 0\n",
      "0 0 0\n",
      "0 0 0\n",
      "0 0 0\n",
      "0 0 0\n",
      "0 0 0\n",
      "0 0 0\n",
      "0 0 0\n",
      "0 0 0\n",
      "0 0 0\n",
      "0 0 0\n",
      "0 0 0\n",
      "0 0 0\n",
      "0 0 0\n",
      "0 0 0\n",
      "0 0 0\n",
      "0 0 0\n",
      "0 0 0\n",
      "0 0 0\n",
      "0 0 0\n",
      "0 0 0\n",
      "0 0 0\n",
      "0 0 0\n",
      "0 0 0\n",
      "0 0 0\n",
      "0 0 0\n",
      "0 0 0\n",
      "0 0 0\n",
      "0 0 0\n",
      "0 0 0\n",
      "0 0 0\n",
      "0 0 0\n",
      "0 0 0\n",
      "0 0 0\n",
      "0 0 0\n",
      "0 0 0\n",
      "0 0 0\n",
      "0 0 0\n",
      "0 0 0\n",
      "0 0 0\n",
      "0 0 0\n",
      "0 0 0\n",
      "0 0 0\n",
      "0 0 0\n",
      "0 0 0\n",
      "0 0 0\n",
      "0 0 0\n",
      "0 0 0\n",
      "0 0 0\n",
      "0 0 0\n",
      "0 0 0\n",
      "0 0 0\n",
      "0 0 0\n",
      "0 0 0\n",
      "0 0 0\n",
      "0 0 0\n",
      "0 0 0\n",
      "0 0 0\n",
      "0 0 0\n",
      "0 0 0\n",
      "0 0 0\n",
      "0 0 0\n",
      "0 0 0\n",
      "0 0 0\n",
      "0 0 0\n",
      "0 0 0\n",
      "0 0 0\n",
      "0 0 0\n",
      "0 0 0\n",
      "0 0 0\n",
      "0 0 0\n",
      "0 0 0\n",
      "0 0 0\n",
      "0 0 0\n",
      "0 0 0\n",
      "0 0 0\n",
      "0 0 0\n",
      "0 0 0\n",
      "0 0 0\n",
      "0 0 0\n",
      "0 0 0\n",
      "0 0 0\n",
      "0 0 0\n",
      "0 0 0\n",
      "0 0 0\n",
      "0 0 0\n",
      "0 0 0\n",
      "0 0 0\n",
      "0 0 0\n",
      "0 0 0\n",
      "0 0 0\n",
      "0 0 0\n",
      "0 0 0\n",
      "0 0 0\n",
      "0 0 0\n",
      "0 0 0\n",
      "0 0 0\n",
      "0 0 0\n",
      "0 0 0\n",
      "0 0 0\n",
      "0 0 0\n",
      "0 0 0\n",
      "0 0 0\n",
      "0 0 0\n",
      "0 0 0\n",
      "0 0 0\n",
      "0 0 0\n",
      "0 0 0\n",
      "0 0 0\n",
      "0 0 0\n",
      "0 0 0\n",
      "0 0 0\n",
      "0 0 0\n",
      "0 0 0\n",
      "0 0 0\n",
      "0 0 0\n",
      "0 0 0\n",
      "0 0 0\n",
      "0 0 0\n",
      "0 0 0\n",
      "0 0 0\n",
      "0 0 0\n",
      "0 0 0\n",
      "0 0 0\n",
      "0 0 0\n",
      "0 0 0\n",
      "0 0 0\n",
      "0 0 0\n",
      "0 0 0\n",
      "0 0 0\n",
      "0 0 0\n",
      "0 0 0\n",
      "0 0 0\n",
      "0 0 0\n",
      "0 0 0\n",
      "0 0 0\n",
      "0 0 0\n",
      "0 0 0\n",
      "0 0 0\n",
      "0 0 0\n",
      "0 0 0\n",
      "0 0 0\n",
      "0 0 0\n",
      "0 0 0\n",
      "0 0 0\n",
      "0 0 0\n",
      "0 0 0\n",
      "0 0 0\n",
      "0 0 0\n",
      "0 0 0\n",
      "0 0 0\n",
      "0 0 0\n",
      "0 0 0\n",
      "0 0 0\n",
      "0 0 0\n",
      "0 0 0\n",
      "0 0 0\n",
      "0 0 0\n",
      "0 0 0\n",
      "0 0 0\n",
      "0 0 0\n",
      "0 0 0\n",
      "0 0 0\n",
      "0 0 0\n",
      "0 0 0\n",
      "0 0 0\n",
      "0 0 0\n",
      "0 0 0\n",
      "0 0 0\n",
      "0 0 0\n",
      "0 0 0\n",
      "0 0 0\n",
      "0 0 0\n",
      "0 0 0\n",
      "0 0 0\n",
      "0 0 0\n",
      "0 0 0\n",
      "0 0 0\n",
      "0 0 0\n",
      "0 0 0\n",
      "0 0 0\n",
      "0 0 0\n",
      "0 0 0\n",
      "0 0 0\n",
      "0 0 0\n",
      "0 0 0\n",
      "0 0 0\n",
      "0 0 0\n",
      "0 0 0\n",
      "0 0 0\n",
      "0 0 0\n",
      "0 0 0\n",
      "0 0 0\n",
      "0 0 0\n",
      "0 0 0\n",
      "0 0 0\n",
      "0 0 0\n",
      "0 0 0\n",
      "0 0 0\n",
      "0 0 0\n",
      "0 0 0\n",
      "0 0 0\n",
      "0 0 0\n",
      "0 0 0\n",
      "0 0 0\n",
      "0 0 0\n",
      "0 0 0\n",
      "0 0 0\n",
      "0 0 0\n",
      "0 0 0\n",
      "0 0 0\n",
      "0 0 0\n",
      "0 0 0\n",
      "0 0 0\n",
      "0 0 0\n",
      "0 0 0\n",
      "0 0 0\n",
      "0 0 0\n",
      "0 0 0\n",
      "0 0 0\n",
      "0 0 0\n",
      "0 0 0\n",
      "0 0 0\n",
      "0 0 0\n",
      "0 0 0\n",
      "0 0 0\n",
      "0 0 0\n",
      "0 0 0\n",
      "0 0 0\n",
      "0 0 0\n",
      "0 0 0\n",
      "0 0 0\n",
      "0 0 0\n",
      "0 0 0\n",
      "0 0 0\n",
      "0 0 0\n",
      "0 0 0\n",
      "0 0 0\n",
      "0 0 0\n",
      "0 0 0\n"
     ]
    },
    {
     "ename": "TypeError",
     "evalue": "emptyFunction() takes 0 positional arguments but 1 was given",
     "output_type": "error",
     "traceback": [
      "\u001b[0;31m---------------------------------------------------------------------------\u001b[0m",
      "\u001b[0;31mTypeError\u001b[0m                                 Traceback (most recent call last)",
      "\u001b[0;31mTypeError\u001b[0m: emptyFunction() takes 0 positional arguments but 1 was given"
     ]
    },
    {
     "name": "stdout",
     "output_type": "stream",
     "text": [
      "3 0 0\n"
     ]
    },
    {
     "ename": "TypeError",
     "evalue": "emptyFunction() takes 0 positional arguments but 1 was given",
     "output_type": "error",
     "traceback": [
      "\u001b[0;31m---------------------------------------------------------------------------\u001b[0m",
      "\u001b[0;31mTypeError\u001b[0m                                 Traceback (most recent call last)",
      "\u001b[0;31mTypeError\u001b[0m: emptyFunction() takes 0 positional arguments but 1 was given"
     ]
    },
    {
     "ename": "TypeError",
     "evalue": "emptyFunction() takes 0 positional arguments but 1 was given",
     "output_type": "error",
     "traceback": [
      "\u001b[0;31m---------------------------------------------------------------------------\u001b[0m",
      "\u001b[0;31mTypeError\u001b[0m                                 Traceback (most recent call last)",
      "\u001b[0;31mTypeError\u001b[0m: emptyFunction() takes 0 positional arguments but 1 was given"
     ]
    },
    {
     "name": "stdout",
     "output_type": "stream",
     "text": [
      "9 0 0\n",
      "9 0 0\n"
     ]
    },
    {
     "ename": "TypeError",
     "evalue": "emptyFunction() takes 0 positional arguments but 1 was given",
     "output_type": "error",
     "traceback": [
      "\u001b[0;31m---------------------------------------------------------------------------\u001b[0m",
      "\u001b[0;31mTypeError\u001b[0m                                 Traceback (most recent call last)",
      "\u001b[0;31mTypeError\u001b[0m: emptyFunction() takes 0 positional arguments but 1 was given"
     ]
    },
    {
     "name": "stdout",
     "output_type": "stream",
     "text": [
      "15 0 0\n"
     ]
    },
    {
     "ename": "TypeError",
     "evalue": "emptyFunction() takes 0 positional arguments but 1 was given",
     "output_type": "error",
     "traceback": [
      "\u001b[0;31m---------------------------------------------------------------------------\u001b[0m",
      "\u001b[0;31mTypeError\u001b[0m                                 Traceback (most recent call last)",
      "\u001b[0;31mTypeError\u001b[0m: emptyFunction() takes 0 positional arguments but 1 was given"
     ]
    },
    {
     "ename": "TypeError",
     "evalue": "emptyFunction() takes 0 positional arguments but 1 was given",
     "output_type": "error",
     "traceback": [
      "\u001b[0;31m---------------------------------------------------------------------------\u001b[0m",
      "\u001b[0;31mTypeError\u001b[0m                                 Traceback (most recent call last)",
      "\u001b[0;31mTypeError\u001b[0m: emptyFunction() takes 0 positional arguments but 1 was given"
     ]
    },
    {
     "name": "stdout",
     "output_type": "stream",
     "text": [
      "17 0 0\n",
      "17 0 0\n"
     ]
    },
    {
     "ename": "TypeError",
     "evalue": "emptyFunction() takes 0 positional arguments but 1 was given",
     "output_type": "error",
     "traceback": [
      "\u001b[0;31m---------------------------------------------------------------------------\u001b[0m",
      "\u001b[0;31mTypeError\u001b[0m                                 Traceback (most recent call last)",
      "\u001b[0;31mTypeError\u001b[0m: emptyFunction() takes 0 positional arguments but 1 was given"
     ]
    },
    {
     "name": "stdout",
     "output_type": "stream",
     "text": [
      "19 0 0\n",
      "19 0 0\n",
      "19 0 0\n",
      "19 0 0\n"
     ]
    },
    {
     "ename": "TypeError",
     "evalue": "emptyFunction() takes 0 positional arguments but 1 was given",
     "output_type": "error",
     "traceback": [
      "\u001b[0;31m---------------------------------------------------------------------------\u001b[0m",
      "\u001b[0;31mTypeError\u001b[0m                                 Traceback (most recent call last)",
      "\u001b[0;31mTypeError\u001b[0m: emptyFunction() takes 0 positional arguments but 1 was given"
     ]
    },
    {
     "name": "stdout",
     "output_type": "stream",
     "text": [
      "20 0 0\n"
     ]
    },
    {
     "ename": "TypeError",
     "evalue": "emptyFunction() takes 0 positional arguments but 1 was given",
     "output_type": "error",
     "traceback": [
      "\u001b[0;31m---------------------------------------------------------------------------\u001b[0m",
      "\u001b[0;31mTypeError\u001b[0m                                 Traceback (most recent call last)",
      "\u001b[0;31mTypeError\u001b[0m: emptyFunction() takes 0 positional arguments but 1 was given"
     ]
    },
    {
     "ename": "TypeError",
     "evalue": "emptyFunction() takes 0 positional arguments but 1 was given",
     "output_type": "error",
     "traceback": [
      "\u001b[0;31m---------------------------------------------------------------------------\u001b[0m",
      "\u001b[0;31mTypeError\u001b[0m                                 Traceback (most recent call last)",
      "\u001b[0;31mTypeError\u001b[0m: emptyFunction() takes 0 positional arguments but 1 was given"
     ]
    },
    {
     "name": "stdout",
     "output_type": "stream",
     "text": [
      "22 0 0\n"
     ]
    },
    {
     "ename": "TypeError",
     "evalue": "emptyFunction() takes 0 positional arguments but 1 was given",
     "output_type": "error",
     "traceback": [
      "\u001b[0;31m---------------------------------------------------------------------------\u001b[0m",
      "\u001b[0;31mTypeError\u001b[0m                                 Traceback (most recent call last)",
      "\u001b[0;31mTypeError\u001b[0m: emptyFunction() takes 0 positional arguments but 1 was given"
     ]
    },
    {
     "ename": "TypeError",
     "evalue": "emptyFunction() takes 0 positional arguments but 1 was given",
     "output_type": "error",
     "traceback": [
      "\u001b[0;31m---------------------------------------------------------------------------\u001b[0m",
      "\u001b[0;31mTypeError\u001b[0m                                 Traceback (most recent call last)",
      "\u001b[0;31mTypeError\u001b[0m: emptyFunction() takes 0 positional arguments but 1 was given"
     ]
    },
    {
     "name": "stdout",
     "output_type": "stream",
     "text": [
      "25 0 0\n",
      "25 0 0\n"
     ]
    },
    {
     "ename": "TypeError",
     "evalue": "emptyFunction() takes 0 positional arguments but 1 was given",
     "output_type": "error",
     "traceback": [
      "\u001b[0;31m---------------------------------------------------------------------------\u001b[0m",
      "\u001b[0;31mTypeError\u001b[0m                                 Traceback (most recent call last)",
      "\u001b[0;31mTypeError\u001b[0m: emptyFunction() takes 0 positional arguments but 1 was given"
     ]
    },
    {
     "ename": "TypeError",
     "evalue": "emptyFunction() takes 0 positional arguments but 1 was given",
     "output_type": "error",
     "traceback": [
      "\u001b[0;31m---------------------------------------------------------------------------\u001b[0m",
      "\u001b[0;31mTypeError\u001b[0m                                 Traceback (most recent call last)",
      "\u001b[0;31mTypeError\u001b[0m: emptyFunction() takes 0 positional arguments but 1 was given"
     ]
    },
    {
     "name": "stdout",
     "output_type": "stream",
     "text": [
      "27 0 0\n",
      "27 0 0\n",
      "27 0 0\n"
     ]
    },
    {
     "ename": "TypeError",
     "evalue": "emptyFunction() takes 0 positional arguments but 1 was given",
     "output_type": "error",
     "traceback": [
      "\u001b[0;31m---------------------------------------------------------------------------\u001b[0m",
      "\u001b[0;31mTypeError\u001b[0m                                 Traceback (most recent call last)",
      "\u001b[0;31mTypeError\u001b[0m: emptyFunction() takes 0 positional arguments but 1 was given"
     ]
    },
    {
     "name": "stdout",
     "output_type": "stream",
     "text": [
      "28 0 0\n",
      "28 0 0\n",
      "28 0 0\n",
      "28 0 0\n",
      "28 0 0\n"
     ]
    },
    {
     "ename": "TypeError",
     "evalue": "emptyFunction() takes 0 positional arguments but 1 was given",
     "output_type": "error",
     "traceback": [
      "\u001b[0;31m---------------------------------------------------------------------------\u001b[0m",
      "\u001b[0;31mTypeError\u001b[0m                                 Traceback (most recent call last)",
      "\u001b[0;31mTypeError\u001b[0m: emptyFunction() takes 0 positional arguments but 1 was given"
     ]
    },
    {
     "name": "stdout",
     "output_type": "stream",
     "text": [
      "29 0 0\n"
     ]
    },
    {
     "ename": "TypeError",
     "evalue": "emptyFunction() takes 0 positional arguments but 1 was given",
     "output_type": "error",
     "traceback": [
      "\u001b[0;31m---------------------------------------------------------------------------\u001b[0m",
      "\u001b[0;31mTypeError\u001b[0m                                 Traceback (most recent call last)",
      "\u001b[0;31mTypeError\u001b[0m: emptyFunction() takes 0 positional arguments but 1 was given"
     ]
    },
    {
     "name": "stdout",
     "output_type": "stream",
     "text": [
      "30 0 0\n",
      "30 0 0\n",
      "30 0 0\n"
     ]
    },
    {
     "ename": "TypeError",
     "evalue": "emptyFunction() takes 0 positional arguments but 1 was given",
     "output_type": "error",
     "traceback": [
      "\u001b[0;31m---------------------------------------------------------------------------\u001b[0m",
      "\u001b[0;31mTypeError\u001b[0m                                 Traceback (most recent call last)",
      "\u001b[0;31mTypeError\u001b[0m: emptyFunction() takes 0 positional arguments but 1 was given"
     ]
    },
    {
     "name": "stdout",
     "output_type": "stream",
     "text": [
      "31 0 0\n"
     ]
    },
    {
     "ename": "TypeError",
     "evalue": "emptyFunction() takes 0 positional arguments but 1 was given",
     "output_type": "error",
     "traceback": [
      "\u001b[0;31m---------------------------------------------------------------------------\u001b[0m",
      "\u001b[0;31mTypeError\u001b[0m                                 Traceback (most recent call last)",
      "\u001b[0;31mTypeError\u001b[0m: emptyFunction() takes 0 positional arguments but 1 was given"
     ]
    },
    {
     "name": "stdout",
     "output_type": "stream",
     "text": [
      "32 0 0\n",
      "32 0 0\n",
      "32 0 0\n"
     ]
    },
    {
     "ename": "TypeError",
     "evalue": "emptyFunction() takes 0 positional arguments but 1 was given",
     "output_type": "error",
     "traceback": [
      "\u001b[0;31m---------------------------------------------------------------------------\u001b[0m",
      "\u001b[0;31mTypeError\u001b[0m                                 Traceback (most recent call last)",
      "\u001b[0;31mTypeError\u001b[0m: emptyFunction() takes 0 positional arguments but 1 was given"
     ]
    },
    {
     "ename": "TypeError",
     "evalue": "emptyFunction() takes 0 positional arguments but 1 was given",
     "output_type": "error",
     "traceback": [
      "\u001b[0;31m---------------------------------------------------------------------------\u001b[0m",
      "\u001b[0;31mTypeError\u001b[0m                                 Traceback (most recent call last)",
      "\u001b[0;31mTypeError\u001b[0m: emptyFunction() takes 0 positional arguments but 1 was given"
     ]
    },
    {
     "name": "stdout",
     "output_type": "stream",
     "text": [
      "36 0 0\n",
      "36 0 0\n"
     ]
    },
    {
     "ename": "TypeError",
     "evalue": "emptyFunction() takes 0 positional arguments but 1 was given",
     "output_type": "error",
     "traceback": [
      "\u001b[0;31m---------------------------------------------------------------------------\u001b[0m",
      "\u001b[0;31mTypeError\u001b[0m                                 Traceback (most recent call last)",
      "\u001b[0;31mTypeError\u001b[0m: emptyFunction() takes 0 positional arguments but 1 was given"
     ]
    },
    {
     "name": "stdout",
     "output_type": "stream",
     "text": [
      "38 0 0\n",
      "38 0 0\n"
     ]
    },
    {
     "ename": "TypeError",
     "evalue": "emptyFunction() takes 0 positional arguments but 1 was given",
     "output_type": "error",
     "traceback": [
      "\u001b[0;31m---------------------------------------------------------------------------\u001b[0m",
      "\u001b[0;31mTypeError\u001b[0m                                 Traceback (most recent call last)",
      "\u001b[0;31mTypeError\u001b[0m: emptyFunction() takes 0 positional arguments but 1 was given"
     ]
    },
    {
     "ename": "TypeError",
     "evalue": "emptyFunction() takes 0 positional arguments but 1 was given",
     "output_type": "error",
     "traceback": [
      "\u001b[0;31m---------------------------------------------------------------------------\u001b[0m",
      "\u001b[0;31mTypeError\u001b[0m                                 Traceback (most recent call last)",
      "\u001b[0;31mTypeError\u001b[0m: emptyFunction() takes 0 positional arguments but 1 was given"
     ]
    },
    {
     "name": "stdout",
     "output_type": "stream",
     "text": [
      "42 0 0\n",
      "42 0 0\n"
     ]
    },
    {
     "ename": "TypeError",
     "evalue": "emptyFunction() takes 0 positional arguments but 1 was given",
     "output_type": "error",
     "traceback": [
      "\u001b[0;31m---------------------------------------------------------------------------\u001b[0m",
      "\u001b[0;31mTypeError\u001b[0m                                 Traceback (most recent call last)",
      "\u001b[0;31mTypeError\u001b[0m: emptyFunction() takes 0 positional arguments but 1 was given"
     ]
    },
    {
     "name": "stdout",
     "output_type": "stream",
     "text": [
      "44 0 0\n"
     ]
    },
    {
     "ename": "TypeError",
     "evalue": "emptyFunction() takes 0 positional arguments but 1 was given",
     "output_type": "error",
     "traceback": [
      "\u001b[0;31m---------------------------------------------------------------------------\u001b[0m",
      "\u001b[0;31mTypeError\u001b[0m                                 Traceback (most recent call last)",
      "\u001b[0;31mTypeError\u001b[0m: emptyFunction() takes 0 positional arguments but 1 was given"
     ]
    },
    {
     "name": "stdout",
     "output_type": "stream",
     "text": [
      "46 0 0\n",
      "46 0 0\n",
      "46 0 0\n",
      "46 0 0\n",
      "46 0 0\n",
      "46 0 0\n"
     ]
    },
    {
     "ename": "TypeError",
     "evalue": "emptyFunction() takes 0 positional arguments but 1 was given",
     "output_type": "error",
     "traceback": [
      "\u001b[0;31m---------------------------------------------------------------------------\u001b[0m",
      "\u001b[0;31mTypeError\u001b[0m                                 Traceback (most recent call last)",
      "\u001b[0;31mTypeError\u001b[0m: emptyFunction() takes 0 positional arguments but 1 was given"
     ]
    },
    {
     "name": "stdout",
     "output_type": "stream",
     "text": [
      "47 0 0\n",
      "47 0 0\n",
      "47 0 0\n",
      "47 0 0\n",
      "47 0 0\n",
      "47 0 0\n",
      "47 0 0\n",
      "47 0 0\n",
      "47 0 0\n",
      "47 0 0\n",
      "47 0 0\n"
     ]
    },
    {
     "ename": "TypeError",
     "evalue": "emptyFunction() takes 0 positional arguments but 1 was given",
     "output_type": "error",
     "traceback": [
      "\u001b[0;31m---------------------------------------------------------------------------\u001b[0m",
      "\u001b[0;31mTypeError\u001b[0m                                 Traceback (most recent call last)",
      "\u001b[0;31mTypeError\u001b[0m: emptyFunction() takes 0 positional arguments but 1 was given"
     ]
    },
    {
     "ename": "TypeError",
     "evalue": "emptyFunction() takes 0 positional arguments but 1 was given",
     "output_type": "error",
     "traceback": [
      "\u001b[0;31m---------------------------------------------------------------------------\u001b[0m",
      "\u001b[0;31mTypeError\u001b[0m                                 Traceback (most recent call last)",
      "\u001b[0;31mTypeError\u001b[0m: emptyFunction() takes 0 positional arguments but 1 was given"
     ]
    },
    {
     "name": "stdout",
     "output_type": "stream",
     "text": [
      "49 0 0\n",
      "49 0 0\n",
      "49 0 0\n"
     ]
    },
    {
     "ename": "TypeError",
     "evalue": "emptyFunction() takes 0 positional arguments but 1 was given",
     "output_type": "error",
     "traceback": [
      "\u001b[0;31m---------------------------------------------------------------------------\u001b[0m",
      "\u001b[0;31mTypeError\u001b[0m                                 Traceback (most recent call last)",
      "\u001b[0;31mTypeError\u001b[0m: emptyFunction() takes 0 positional arguments but 1 was given"
     ]
    },
    {
     "name": "stdout",
     "output_type": "stream",
     "text": [
      "50 0 0\n",
      "50 0 0\n"
     ]
    },
    {
     "ename": "TypeError",
     "evalue": "emptyFunction() takes 0 positional arguments but 1 was given",
     "output_type": "error",
     "traceback": [
      "\u001b[0;31m---------------------------------------------------------------------------\u001b[0m",
      "\u001b[0;31mTypeError\u001b[0m                                 Traceback (most recent call last)",
      "\u001b[0;31mTypeError\u001b[0m: emptyFunction() takes 0 positional arguments but 1 was given"
     ]
    },
    {
     "name": "stdout",
     "output_type": "stream",
     "text": [
      "51 0 0\n",
      "51 0 0\n"
     ]
    },
    {
     "ename": "TypeError",
     "evalue": "emptyFunction() takes 0 positional arguments but 1 was given",
     "output_type": "error",
     "traceback": [
      "\u001b[0;31m---------------------------------------------------------------------------\u001b[0m",
      "\u001b[0;31mTypeError\u001b[0m                                 Traceback (most recent call last)",
      "\u001b[0;31mTypeError\u001b[0m: emptyFunction() takes 0 positional arguments but 1 was given"
     ]
    },
    {
     "ename": "TypeError",
     "evalue": "emptyFunction() takes 0 positional arguments but 1 was given",
     "output_type": "error",
     "traceback": [
      "\u001b[0;31m---------------------------------------------------------------------------\u001b[0m",
      "\u001b[0;31mTypeError\u001b[0m                                 Traceback (most recent call last)",
      "\u001b[0;31mTypeError\u001b[0m: emptyFunction() takes 0 positional arguments but 1 was given"
     ]
    },
    {
     "name": "stdout",
     "output_type": "stream",
     "text": [
      "54 0 0\n",
      "54 0 0\n"
     ]
    },
    {
     "ename": "TypeError",
     "evalue": "emptyFunction() takes 0 positional arguments but 1 was given",
     "output_type": "error",
     "traceback": [
      "\u001b[0;31m---------------------------------------------------------------------------\u001b[0m",
      "\u001b[0;31mTypeError\u001b[0m                                 Traceback (most recent call last)",
      "\u001b[0;31mTypeError\u001b[0m: emptyFunction() takes 0 positional arguments but 1 was given"
     ]
    },
    {
     "name": "stdout",
     "output_type": "stream",
     "text": [
      "56 0 0\n"
     ]
    },
    {
     "ename": "TypeError",
     "evalue": "emptyFunction() takes 0 positional arguments but 1 was given",
     "output_type": "error",
     "traceback": [
      "\u001b[0;31m---------------------------------------------------------------------------\u001b[0m",
      "\u001b[0;31mTypeError\u001b[0m                                 Traceback (most recent call last)",
      "\u001b[0;31mTypeError\u001b[0m: emptyFunction() takes 0 positional arguments but 1 was given"
     ]
    },
    {
     "ename": "TypeError",
     "evalue": "emptyFunction() takes 0 positional arguments but 1 was given",
     "output_type": "error",
     "traceback": [
      "\u001b[0;31m---------------------------------------------------------------------------\u001b[0m",
      "\u001b[0;31mTypeError\u001b[0m                                 Traceback (most recent call last)",
      "\u001b[0;31mTypeError\u001b[0m: emptyFunction() takes 0 positional arguments but 1 was given"
     ]
    },
    {
     "name": "stdout",
     "output_type": "stream",
     "text": [
      "58 0 0\n"
     ]
    },
    {
     "ename": "TypeError",
     "evalue": "emptyFunction() takes 0 positional arguments but 1 was given",
     "output_type": "error",
     "traceback": [
      "\u001b[0;31m---------------------------------------------------------------------------\u001b[0m",
      "\u001b[0;31mTypeError\u001b[0m                                 Traceback (most recent call last)",
      "\u001b[0;31mTypeError\u001b[0m: emptyFunction() takes 0 positional arguments but 1 was given"
     ]
    },
    {
     "name": "stdout",
     "output_type": "stream",
     "text": [
      "60 0 0\n",
      "60 0 0\n"
     ]
    },
    {
     "ename": "TypeError",
     "evalue": "emptyFunction() takes 0 positional arguments but 1 was given",
     "output_type": "error",
     "traceback": [
      "\u001b[0;31m---------------------------------------------------------------------------\u001b[0m",
      "\u001b[0;31mTypeError\u001b[0m                                 Traceback (most recent call last)",
      "\u001b[0;31mTypeError\u001b[0m: emptyFunction() takes 0 positional arguments but 1 was given"
     ]
    },
    {
     "name": "stdout",
     "output_type": "stream",
     "text": [
      "62 0 0\n",
      "62 0 0\n",
      "62 0 0\n"
     ]
    },
    {
     "ename": "TypeError",
     "evalue": "emptyFunction() takes 0 positional arguments but 1 was given",
     "output_type": "error",
     "traceback": [
      "\u001b[0;31m---------------------------------------------------------------------------\u001b[0m",
      "\u001b[0;31mTypeError\u001b[0m                                 Traceback (most recent call last)",
      "\u001b[0;31mTypeError\u001b[0m: emptyFunction() takes 0 positional arguments but 1 was given"
     ]
    },
    {
     "name": "stdout",
     "output_type": "stream",
     "text": [
      "64 0 0\n",
      "64 0 0\n"
     ]
    },
    {
     "ename": "TypeError",
     "evalue": "emptyFunction() takes 0 positional arguments but 1 was given",
     "output_type": "error",
     "traceback": [
      "\u001b[0;31m---------------------------------------------------------------------------\u001b[0m",
      "\u001b[0;31mTypeError\u001b[0m                                 Traceback (most recent call last)",
      "\u001b[0;31mTypeError\u001b[0m: emptyFunction() takes 0 positional arguments but 1 was given"
     ]
    },
    {
     "name": "stdout",
     "output_type": "stream",
     "text": [
      "66 0 0\n",
      "66 0 0\n",
      "66 0 0\n",
      "66 0 0\n"
     ]
    },
    {
     "ename": "TypeError",
     "evalue": "emptyFunction() takes 0 positional arguments but 1 was given",
     "output_type": "error",
     "traceback": [
      "\u001b[0;31m---------------------------------------------------------------------------\u001b[0m",
      "\u001b[0;31mTypeError\u001b[0m                                 Traceback (most recent call last)",
      "\u001b[0;31mTypeError\u001b[0m: emptyFunction() takes 0 positional arguments but 1 was given"
     ]
    },
    {
     "name": "stdout",
     "output_type": "stream",
     "text": [
      "68 0 0\n",
      "68 0 0\n"
     ]
    },
    {
     "ename": "TypeError",
     "evalue": "emptyFunction() takes 0 positional arguments but 1 was given",
     "output_type": "error",
     "traceback": [
      "\u001b[0;31m---------------------------------------------------------------------------\u001b[0m",
      "\u001b[0;31mTypeError\u001b[0m                                 Traceback (most recent call last)",
      "\u001b[0;31mTypeError\u001b[0m: emptyFunction() takes 0 positional arguments but 1 was given"
     ]
    },
    {
     "name": "stdout",
     "output_type": "stream",
     "text": [
      "69 0 0\n"
     ]
    },
    {
     "ename": "TypeError",
     "evalue": "emptyFunction() takes 0 positional arguments but 1 was given",
     "output_type": "error",
     "traceback": [
      "\u001b[0;31m---------------------------------------------------------------------------\u001b[0m",
      "\u001b[0;31mTypeError\u001b[0m                                 Traceback (most recent call last)",
      "\u001b[0;31mTypeError\u001b[0m: emptyFunction() takes 0 positional arguments but 1 was given"
     ]
    },
    {
     "name": "stdout",
     "output_type": "stream",
     "text": [
      "71 0 0\n"
     ]
    },
    {
     "ename": "TypeError",
     "evalue": "emptyFunction() takes 0 positional arguments but 1 was given",
     "output_type": "error",
     "traceback": [
      "\u001b[0;31m---------------------------------------------------------------------------\u001b[0m",
      "\u001b[0;31mTypeError\u001b[0m                                 Traceback (most recent call last)",
      "\u001b[0;31mTypeError\u001b[0m: emptyFunction() takes 0 positional arguments but 1 was given"
     ]
    },
    {
     "name": "stdout",
     "output_type": "stream",
     "text": [
      "72 0 0\n"
     ]
    },
    {
     "ename": "TypeError",
     "evalue": "emptyFunction() takes 0 positional arguments but 1 was given",
     "output_type": "error",
     "traceback": [
      "\u001b[0;31m---------------------------------------------------------------------------\u001b[0m",
      "\u001b[0;31mTypeError\u001b[0m                                 Traceback (most recent call last)",
      "\u001b[0;31mTypeError\u001b[0m: emptyFunction() takes 0 positional arguments but 1 was given"
     ]
    },
    {
     "ename": "TypeError",
     "evalue": "emptyFunction() takes 0 positional arguments but 1 was given",
     "output_type": "error",
     "traceback": [
      "\u001b[0;31m---------------------------------------------------------------------------\u001b[0m",
      "\u001b[0;31mTypeError\u001b[0m                                 Traceback (most recent call last)",
      "\u001b[0;31mTypeError\u001b[0m: emptyFunction() takes 0 positional arguments but 1 was given"
     ]
    },
    {
     "name": "stdout",
     "output_type": "stream",
     "text": [
      "74 0 0\n"
     ]
    },
    {
     "ename": "TypeError",
     "evalue": "emptyFunction() takes 0 positional arguments but 1 was given",
     "output_type": "error",
     "traceback": [
      "\u001b[0;31m---------------------------------------------------------------------------\u001b[0m",
      "\u001b[0;31mTypeError\u001b[0m                                 Traceback (most recent call last)",
      "\u001b[0;31mTypeError\u001b[0m: emptyFunction() takes 0 positional arguments but 1 was given"
     ]
    },
    {
     "name": "stdout",
     "output_type": "stream",
     "text": [
      "76 0 0\n"
     ]
    },
    {
     "ename": "TypeError",
     "evalue": "emptyFunction() takes 0 positional arguments but 1 was given",
     "output_type": "error",
     "traceback": [
      "\u001b[0;31m---------------------------------------------------------------------------\u001b[0m",
      "\u001b[0;31mTypeError\u001b[0m                                 Traceback (most recent call last)",
      "\u001b[0;31mTypeError\u001b[0m: emptyFunction() takes 0 positional arguments but 1 was given"
     ]
    },
    {
     "name": "stdout",
     "output_type": "stream",
     "text": [
      "79 0 0\n"
     ]
    },
    {
     "ename": "TypeError",
     "evalue": "emptyFunction() takes 0 positional arguments but 1 was given",
     "output_type": "error",
     "traceback": [
      "\u001b[0;31m---------------------------------------------------------------------------\u001b[0m",
      "\u001b[0;31mTypeError\u001b[0m                                 Traceback (most recent call last)",
      "\u001b[0;31mTypeError\u001b[0m: emptyFunction() takes 0 positional arguments but 1 was given"
     ]
    },
    {
     "name": "stdout",
     "output_type": "stream",
     "text": [
      "80 0 0\n"
     ]
    },
    {
     "ename": "TypeError",
     "evalue": "emptyFunction() takes 0 positional arguments but 1 was given",
     "output_type": "error",
     "traceback": [
      "\u001b[0;31m---------------------------------------------------------------------------\u001b[0m",
      "\u001b[0;31mTypeError\u001b[0m                                 Traceback (most recent call last)",
      "\u001b[0;31mTypeError\u001b[0m: emptyFunction() takes 0 positional arguments but 1 was given"
     ]
    },
    {
     "name": "stdout",
     "output_type": "stream",
     "text": [
      "83 0 0\n"
     ]
    },
    {
     "ename": "TypeError",
     "evalue": "emptyFunction() takes 0 positional arguments but 1 was given",
     "output_type": "error",
     "traceback": [
      "\u001b[0;31m---------------------------------------------------------------------------\u001b[0m",
      "\u001b[0;31mTypeError\u001b[0m                                 Traceback (most recent call last)",
      "\u001b[0;31mTypeError\u001b[0m: emptyFunction() takes 0 positional arguments but 1 was given"
     ]
    },
    {
     "ename": "TypeError",
     "evalue": "emptyFunction() takes 0 positional arguments but 1 was given",
     "output_type": "error",
     "traceback": [
      "\u001b[0;31m---------------------------------------------------------------------------\u001b[0m",
      "\u001b[0;31mTypeError\u001b[0m                                 Traceback (most recent call last)",
      "\u001b[0;31mTypeError\u001b[0m: emptyFunction() takes 0 positional arguments but 1 was given"
     ]
    },
    {
     "name": "stdout",
     "output_type": "stream",
     "text": [
      "88 0 0\n"
     ]
    },
    {
     "ename": "TypeError",
     "evalue": "emptyFunction() takes 0 positional arguments but 1 was given",
     "output_type": "error",
     "traceback": [
      "\u001b[0;31m---------------------------------------------------------------------------\u001b[0m",
      "\u001b[0;31mTypeError\u001b[0m                                 Traceback (most recent call last)",
      "\u001b[0;31mTypeError\u001b[0m: emptyFunction() takes 0 positional arguments but 1 was given"
     ]
    },
    {
     "name": "stdout",
     "output_type": "stream",
     "text": [
      "91 0 0\n"
     ]
    },
    {
     "ename": "TypeError",
     "evalue": "emptyFunction() takes 0 positional arguments but 1 was given",
     "output_type": "error",
     "traceback": [
      "\u001b[0;31m---------------------------------------------------------------------------\u001b[0m",
      "\u001b[0;31mTypeError\u001b[0m                                 Traceback (most recent call last)",
      "\u001b[0;31mTypeError\u001b[0m: emptyFunction() takes 0 positional arguments but 1 was given"
     ]
    },
    {
     "name": "stdout",
     "output_type": "stream",
     "text": [
      "97 0 0\n",
      "97 0 0\n"
     ]
    },
    {
     "ename": "TypeError",
     "evalue": "emptyFunction() takes 0 positional arguments but 1 was given",
     "output_type": "error",
     "traceback": [
      "\u001b[0;31m---------------------------------------------------------------------------\u001b[0m",
      "\u001b[0;31mTypeError\u001b[0m                                 Traceback (most recent call last)",
      "\u001b[0;31mTypeError\u001b[0m: emptyFunction() takes 0 positional arguments but 1 was given"
     ]
    },
    {
     "ename": "TypeError",
     "evalue": "emptyFunction() takes 0 positional arguments but 1 was given",
     "output_type": "error",
     "traceback": [
      "\u001b[0;31m---------------------------------------------------------------------------\u001b[0m",
      "\u001b[0;31mTypeError\u001b[0m                                 Traceback (most recent call last)",
      "\u001b[0;31mTypeError\u001b[0m: emptyFunction() takes 0 positional arguments but 1 was given"
     ]
    },
    {
     "name": "stdout",
     "output_type": "stream",
     "text": [
      "107 0 0\n"
     ]
    },
    {
     "ename": "TypeError",
     "evalue": "emptyFunction() takes 0 positional arguments but 1 was given",
     "output_type": "error",
     "traceback": [
      "\u001b[0;31m---------------------------------------------------------------------------\u001b[0m",
      "\u001b[0;31mTypeError\u001b[0m                                 Traceback (most recent call last)",
      "\u001b[0;31mTypeError\u001b[0m: emptyFunction() takes 0 positional arguments but 1 was given"
     ]
    },
    {
     "name": "stdout",
     "output_type": "stream",
     "text": [
      "110 0 0\n"
     ]
    },
    {
     "ename": "TypeError",
     "evalue": "emptyFunction() takes 0 positional arguments but 1 was given",
     "output_type": "error",
     "traceback": [
      "\u001b[0;31m---------------------------------------------------------------------------\u001b[0m",
      "\u001b[0;31mTypeError\u001b[0m                                 Traceback (most recent call last)",
      "\u001b[0;31mTypeError\u001b[0m: emptyFunction() takes 0 positional arguments but 1 was given"
     ]
    },
    {
     "name": "stdout",
     "output_type": "stream",
     "text": [
      "118 0 0\n",
      "118 0 0\n"
     ]
    },
    {
     "ename": "TypeError",
     "evalue": "emptyFunction() takes 0 positional arguments but 1 was given",
     "output_type": "error",
     "traceback": [
      "\u001b[0;31m---------------------------------------------------------------------------\u001b[0m",
      "\u001b[0;31mTypeError\u001b[0m                                 Traceback (most recent call last)",
      "\u001b[0;31mTypeError\u001b[0m: emptyFunction() takes 0 positional arguments but 1 was given"
     ]
    },
    {
     "name": "stdout",
     "output_type": "stream",
     "text": [
      "126 0 0\n",
      "126 0 0\n"
     ]
    },
    {
     "ename": "TypeError",
     "evalue": "emptyFunction() takes 0 positional arguments but 1 was given",
     "output_type": "error",
     "traceback": [
      "\u001b[0;31m---------------------------------------------------------------------------\u001b[0m",
      "\u001b[0;31mTypeError\u001b[0m                                 Traceback (most recent call last)",
      "\u001b[0;31mTypeError\u001b[0m: emptyFunction() takes 0 positional arguments but 1 was given"
     ]
    },
    {
     "name": "stdout",
     "output_type": "stream",
     "text": [
      "139 0 0\n"
     ]
    },
    {
     "ename": "TypeError",
     "evalue": "emptyFunction() takes 0 positional arguments but 1 was given",
     "output_type": "error",
     "traceback": [
      "\u001b[0;31m---------------------------------------------------------------------------\u001b[0m",
      "\u001b[0;31mTypeError\u001b[0m                                 Traceback (most recent call last)",
      "\u001b[0;31mTypeError\u001b[0m: emptyFunction() takes 0 positional arguments but 1 was given"
     ]
    },
    {
     "name": "stdout",
     "output_type": "stream",
     "text": [
      "141 0 0\n"
     ]
    },
    {
     "ename": "TypeError",
     "evalue": "emptyFunction() takes 0 positional arguments but 1 was given",
     "output_type": "error",
     "traceback": [
      "\u001b[0;31m---------------------------------------------------------------------------\u001b[0m",
      "\u001b[0;31mTypeError\u001b[0m                                 Traceback (most recent call last)",
      "\u001b[0;31mTypeError\u001b[0m: emptyFunction() takes 0 positional arguments but 1 was given"
     ]
    },
    {
     "ename": "TypeError",
     "evalue": "emptyFunction() takes 0 positional arguments but 1 was given",
     "output_type": "error",
     "traceback": [
      "\u001b[0;31m---------------------------------------------------------------------------\u001b[0m",
      "\u001b[0;31mTypeError\u001b[0m                                 Traceback (most recent call last)",
      "\u001b[0;31mTypeError\u001b[0m: emptyFunction() takes 0 positional arguments but 1 was given"
     ]
    },
    {
     "name": "stdout",
     "output_type": "stream",
     "text": [
      "145 0 0\n"
     ]
    },
    {
     "ename": "TypeError",
     "evalue": "emptyFunction() takes 0 positional arguments but 1 was given",
     "output_type": "error",
     "traceback": [
      "\u001b[0;31m---------------------------------------------------------------------------\u001b[0m",
      "\u001b[0;31mTypeError\u001b[0m                                 Traceback (most recent call last)",
      "\u001b[0;31mTypeError\u001b[0m: emptyFunction() takes 0 positional arguments but 1 was given"
     ]
    },
    {
     "ename": "TypeError",
     "evalue": "emptyFunction() takes 0 positional arguments but 1 was given",
     "output_type": "error",
     "traceback": [
      "\u001b[0;31m---------------------------------------------------------------------------\u001b[0m",
      "\u001b[0;31mTypeError\u001b[0m                                 Traceback (most recent call last)",
      "\u001b[0;31mTypeError\u001b[0m: emptyFunction() takes 0 positional arguments but 1 was given"
     ]
    },
    {
     "name": "stdout",
     "output_type": "stream",
     "text": [
      "149 0 0\n"
     ]
    },
    {
     "ename": "TypeError",
     "evalue": "emptyFunction() takes 0 positional arguments but 1 was given",
     "output_type": "error",
     "traceback": [
      "\u001b[0;31m---------------------------------------------------------------------------\u001b[0m",
      "\u001b[0;31mTypeError\u001b[0m                                 Traceback (most recent call last)",
      "\u001b[0;31mTypeError\u001b[0m: emptyFunction() takes 0 positional arguments but 1 was given"
     ]
    },
    {
     "name": "stdout",
     "output_type": "stream",
     "text": [
      "150 0 0\n"
     ]
    },
    {
     "ename": "TypeError",
     "evalue": "emptyFunction() takes 0 positional arguments but 1 was given",
     "output_type": "error",
     "traceback": [
      "\u001b[0;31m---------------------------------------------------------------------------\u001b[0m",
      "\u001b[0;31mTypeError\u001b[0m                                 Traceback (most recent call last)",
      "\u001b[0;31mTypeError\u001b[0m: emptyFunction() takes 0 positional arguments but 1 was given"
     ]
    },
    {
     "ename": "TypeError",
     "evalue": "emptyFunction() takes 0 positional arguments but 1 was given",
     "output_type": "error",
     "traceback": [
      "\u001b[0;31m---------------------------------------------------------------------------\u001b[0m",
      "\u001b[0;31mTypeError\u001b[0m                                 Traceback (most recent call last)",
      "\u001b[0;31mTypeError\u001b[0m: emptyFunction() takes 0 positional arguments but 1 was given"
     ]
    },
    {
     "name": "stdout",
     "output_type": "stream",
     "text": [
      "153 0 0\n",
      "153 0 0\n"
     ]
    },
    {
     "ename": "TypeError",
     "evalue": "emptyFunction() takes 0 positional arguments but 1 was given",
     "output_type": "error",
     "traceback": [
      "\u001b[0;31m---------------------------------------------------------------------------\u001b[0m",
      "\u001b[0;31mTypeError\u001b[0m                                 Traceback (most recent call last)",
      "\u001b[0;31mTypeError\u001b[0m: emptyFunction() takes 0 positional arguments but 1 was given"
     ]
    },
    {
     "ename": "TypeError",
     "evalue": "emptyFunction() takes 0 positional arguments but 1 was given",
     "output_type": "error",
     "traceback": [
      "\u001b[0;31m---------------------------------------------------------------------------\u001b[0m",
      "\u001b[0;31mTypeError\u001b[0m                                 Traceback (most recent call last)",
      "\u001b[0;31mTypeError\u001b[0m: emptyFunction() takes 0 positional arguments but 1 was given"
     ]
    },
    {
     "name": "stdout",
     "output_type": "stream",
     "text": [
      "156 0 0\n",
      "156 0 0\n"
     ]
    },
    {
     "ename": "TypeError",
     "evalue": "emptyFunction() takes 0 positional arguments but 1 was given",
     "output_type": "error",
     "traceback": [
      "\u001b[0;31m---------------------------------------------------------------------------\u001b[0m",
      "\u001b[0;31mTypeError\u001b[0m                                 Traceback (most recent call last)",
      "\u001b[0;31mTypeError\u001b[0m: emptyFunction() takes 0 positional arguments but 1 was given"
     ]
    },
    {
     "name": "stdout",
     "output_type": "stream",
     "text": [
      "159 0 0\n"
     ]
    },
    {
     "ename": "TypeError",
     "evalue": "emptyFunction() takes 0 positional arguments but 1 was given",
     "output_type": "error",
     "traceback": [
      "\u001b[0;31m---------------------------------------------------------------------------\u001b[0m",
      "\u001b[0;31mTypeError\u001b[0m                                 Traceback (most recent call last)",
      "\u001b[0;31mTypeError\u001b[0m: emptyFunction() takes 0 positional arguments but 1 was given"
     ]
    },
    {
     "ename": "TypeError",
     "evalue": "emptyFunction() takes 0 positional arguments but 1 was given",
     "output_type": "error",
     "traceback": [
      "\u001b[0;31m---------------------------------------------------------------------------\u001b[0m",
      "\u001b[0;31mTypeError\u001b[0m                                 Traceback (most recent call last)",
      "\u001b[0;31mTypeError\u001b[0m: emptyFunction() takes 0 positional arguments but 1 was given"
     ]
    },
    {
     "name": "stdout",
     "output_type": "stream",
     "text": [
      "163 0 0\n",
      "163 0 0\n"
     ]
    },
    {
     "ename": "TypeError",
     "evalue": "emptyFunction() takes 0 positional arguments but 1 was given",
     "output_type": "error",
     "traceback": [
      "\u001b[0;31m---------------------------------------------------------------------------\u001b[0m",
      "\u001b[0;31mTypeError\u001b[0m                                 Traceback (most recent call last)",
      "\u001b[0;31mTypeError\u001b[0m: emptyFunction() takes 0 positional arguments but 1 was given"
     ]
    },
    {
     "name": "stdout",
     "output_type": "stream",
     "text": [
      "166 0 0\n",
      "166 0 0\n",
      "166 0 0\n",
      "166 0 0\n",
      "166 0 0\n",
      "166 0 0\n",
      "166 0 0\n",
      "166 0 0\n",
      "166 0 0\n",
      "166 0 0\n",
      "166 0 0\n",
      "166 0 0\n",
      "166 0 0\n",
      "166 0 0\n",
      "166 0 0\n"
     ]
    },
    {
     "ename": "TypeError",
     "evalue": "emptyFunction() takes 0 positional arguments but 1 was given",
     "output_type": "error",
     "traceback": [
      "\u001b[0;31m---------------------------------------------------------------------------\u001b[0m",
      "\u001b[0;31mTypeError\u001b[0m                                 Traceback (most recent call last)",
      "\u001b[0;31mTypeError\u001b[0m: emptyFunction() takes 0 positional arguments but 1 was given"
     ]
    },
    {
     "name": "stdout",
     "output_type": "stream",
     "text": [
      "161 0 0\n"
     ]
    },
    {
     "ename": "TypeError",
     "evalue": "emptyFunction() takes 0 positional arguments but 1 was given",
     "output_type": "error",
     "traceback": [
      "\u001b[0;31m---------------------------------------------------------------------------\u001b[0m",
      "\u001b[0;31mTypeError\u001b[0m                                 Traceback (most recent call last)",
      "\u001b[0;31mTypeError\u001b[0m: emptyFunction() takes 0 positional arguments but 1 was given"
     ]
    },
    {
     "name": "stdout",
     "output_type": "stream",
     "text": [
      "158 0 0\n"
     ]
    },
    {
     "ename": "TypeError",
     "evalue": "emptyFunction() takes 0 positional arguments but 1 was given",
     "output_type": "error",
     "traceback": [
      "\u001b[0;31m---------------------------------------------------------------------------\u001b[0m",
      "\u001b[0;31mTypeError\u001b[0m                                 Traceback (most recent call last)",
      "\u001b[0;31mTypeError\u001b[0m: emptyFunction() takes 0 positional arguments but 1 was given"
     ]
    },
    {
     "ename": "TypeError",
     "evalue": "emptyFunction() takes 0 positional arguments but 1 was given",
     "output_type": "error",
     "traceback": [
      "\u001b[0;31m---------------------------------------------------------------------------\u001b[0m",
      "\u001b[0;31mTypeError\u001b[0m                                 Traceback (most recent call last)",
      "\u001b[0;31mTypeError\u001b[0m: emptyFunction() takes 0 positional arguments but 1 was given"
     ]
    },
    {
     "name": "stdout",
     "output_type": "stream",
     "text": [
      "150 0 0\n"
     ]
    },
    {
     "ename": "TypeError",
     "evalue": "emptyFunction() takes 0 positional arguments but 1 was given",
     "output_type": "error",
     "traceback": [
      "\u001b[0;31m---------------------------------------------------------------------------\u001b[0m",
      "\u001b[0;31mTypeError\u001b[0m                                 Traceback (most recent call last)",
      "\u001b[0;31mTypeError\u001b[0m: emptyFunction() takes 0 positional arguments but 1 was given"
     ]
    },
    {
     "name": "stdout",
     "output_type": "stream",
     "text": [
      "145 0 0\n"
     ]
    },
    {
     "ename": "TypeError",
     "evalue": "emptyFunction() takes 0 positional arguments but 1 was given",
     "output_type": "error",
     "traceback": [
      "\u001b[0;31m---------------------------------------------------------------------------\u001b[0m",
      "\u001b[0;31mTypeError\u001b[0m                                 Traceback (most recent call last)",
      "\u001b[0;31mTypeError\u001b[0m: emptyFunction() takes 0 positional arguments but 1 was given"
     ]
    },
    {
     "name": "stdout",
     "output_type": "stream",
     "text": [
      "139 0 0\n"
     ]
    },
    {
     "ename": "TypeError",
     "evalue": "emptyFunction() takes 0 positional arguments but 1 was given",
     "output_type": "error",
     "traceback": [
      "\u001b[0;31m---------------------------------------------------------------------------\u001b[0m",
      "\u001b[0;31mTypeError\u001b[0m                                 Traceback (most recent call last)",
      "\u001b[0;31mTypeError\u001b[0m: emptyFunction() takes 0 positional arguments but 1 was given"
     ]
    },
    {
     "name": "stdout",
     "output_type": "stream",
     "text": [
      "135 0 0\n"
     ]
    },
    {
     "ename": "TypeError",
     "evalue": "emptyFunction() takes 0 positional arguments but 1 was given",
     "output_type": "error",
     "traceback": [
      "\u001b[0;31m---------------------------------------------------------------------------\u001b[0m",
      "\u001b[0;31mTypeError\u001b[0m                                 Traceback (most recent call last)",
      "\u001b[0;31mTypeError\u001b[0m: emptyFunction() takes 0 positional arguments but 1 was given"
     ]
    },
    {
     "ename": "TypeError",
     "evalue": "emptyFunction() takes 0 positional arguments but 1 was given",
     "output_type": "error",
     "traceback": [
      "\u001b[0;31m---------------------------------------------------------------------------\u001b[0m",
      "\u001b[0;31mTypeError\u001b[0m                                 Traceback (most recent call last)",
      "\u001b[0;31mTypeError\u001b[0m: emptyFunction() takes 0 positional arguments but 1 was given"
     ]
    },
    {
     "name": "stdout",
     "output_type": "stream",
     "text": [
      "130 0 0\n",
      "130 0 0\n"
     ]
    },
    {
     "ename": "TypeError",
     "evalue": "emptyFunction() takes 0 positional arguments but 1 was given",
     "output_type": "error",
     "traceback": [
      "\u001b[0;31m---------------------------------------------------------------------------\u001b[0m",
      "\u001b[0;31mTypeError\u001b[0m                                 Traceback (most recent call last)",
      "\u001b[0;31mTypeError\u001b[0m: emptyFunction() takes 0 positional arguments but 1 was given"
     ]
    },
    {
     "name": "stdout",
     "output_type": "stream",
     "text": [
      "128 0 0\n",
      "128 0 0\n",
      "128 0 0\n",
      "128 0 0\n",
      "128 0 0\n",
      "128 0 0\n",
      "128 0 0\n",
      "128 0 0\n",
      "128 0 0\n",
      "128 0 0\n",
      "128 0 0\n",
      "128 0 0\n",
      "128 0 0\n",
      "128 0 0\n",
      "128 0 0\n",
      "128 0 0\n",
      "128 0 0\n",
      "128 0 0\n",
      "128 0 0\n",
      "128 0 0\n",
      "128 0 0\n",
      "128 0 0\n",
      "128 0 0\n",
      "128 0 0\n",
      "128 0 0\n",
      "128 0 0\n",
      "128 0 0\n",
      "128 0 0\n",
      "128 0 0\n",
      "128 0 0\n",
      "128 0 0\n",
      "128 0 0\n",
      "128 0 0\n",
      "128 0 0\n",
      "128 0 0\n",
      "128 0 0\n",
      "128 0 0\n",
      "128 0 0\n",
      "128 0 0\n",
      "128 0 0\n",
      "128 0 0\n",
      "128 0 0\n",
      "128 0 0\n",
      "128 0 0\n",
      "128 0 0\n",
      "128 0 0\n",
      "128 0 0\n",
      "128 0 0\n",
      "128 0 0\n",
      "128 0 0\n",
      "128 0 0\n",
      "128 0 0\n",
      "128 0 0\n",
      "128 0 0\n",
      "128 0 0\n",
      "128 0 0\n",
      "128 0 0\n",
      "128 0 0\n",
      "128 0 0\n",
      "128 0 0\n",
      "128 0 0\n",
      "128 0 0\n",
      "128 0 0\n",
      "128 0 0\n",
      "128 0 0\n",
      "128 0 0\n",
      "128 0 0\n",
      "128 0 0\n",
      "128 0 0\n",
      "128 0 0\n",
      "128 0 0\n",
      "128 0 0\n",
      "128 0 0\n",
      "128 0 0\n",
      "128 0 0\n",
      "128 0 0\n",
      "128 0 0\n",
      "128 0 0\n",
      "128 0 0\n",
      "128 0 0\n",
      "128 0 0\n",
      "128 0 0\n",
      "128 0 0\n",
      "128 0 0\n",
      "128 0 0\n",
      "128 0 0\n",
      "128 0 0\n",
      "128 0 0\n",
      "128 0 0\n",
      "128 0 0\n",
      "128 0 0\n",
      "128 0 0\n",
      "128 0 0\n",
      "128 0 0\n",
      "128 0 0\n",
      "128 0 0\n",
      "128 0 0\n",
      "128 0 0\n",
      "128 0 0\n",
      "128 0 0\n",
      "128 0 0\n",
      "128 0 0\n",
      "128 0 0\n",
      "128 0 0\n",
      "128 0 0\n",
      "128 0 0\n",
      "128 0 0\n",
      "128 0 0\n",
      "128 0 0\n",
      "128 0 0\n",
      "128 0 0\n",
      "128 0 0\n",
      "128 0 0\n",
      "128 0 0\n",
      "128 0 0\n",
      "128 0 0\n",
      "128 0 0\n",
      "128 0 0\n",
      "128 0 0\n",
      "128 0 0\n",
      "128 0 0\n",
      "128 0 0\n",
      "128 0 0\n",
      "128 0 0\n",
      "128 0 0\n",
      "128 0 0\n",
      "128 0 0\n",
      "128 0 0\n",
      "128 0 0\n",
      "128 0 0\n",
      "128 0 0\n",
      "128 0 0\n",
      "128 0 0\n",
      "128 0 0\n",
      "128 0 0\n",
      "128 0 0\n",
      "128 0 0\n",
      "128 0 0\n",
      "128 0 0\n",
      "128 0 0\n",
      "128 0 0\n",
      "128 0 0\n",
      "128 0 0\n",
      "128 0 0\n",
      "128 0 0\n",
      "128 0 0\n",
      "128 0 0\n",
      "128 0 0\n",
      "128 0 0\n",
      "128 0 0\n",
      "128 0 0\n",
      "128 0 0\n",
      "128 0 0\n",
      "128 0 0\n",
      "128 0 0\n",
      "128 0 0\n",
      "128 0 0\n",
      "128 0 0\n",
      "128 0 0\n",
      "128 0 0\n",
      "128 0 0\n",
      "128 0 0\n",
      "128 0 0\n",
      "128 0 0\n",
      "128 0 0\n",
      "128 0 0\n",
      "128 0 0\n",
      "128 0 0\n",
      "128 0 0\n",
      "128 0 0\n",
      "128 0 0\n",
      "128 0 0\n",
      "128 0 0\n",
      "128 0 0\n",
      "128 0 0\n",
      "128 0 0\n",
      "128 0 0\n",
      "128 0 0\n",
      "128 0 0\n",
      "128 0 0\n",
      "128 0 0\n",
      "128 0 0\n",
      "128 0 0\n",
      "128 0 0\n",
      "128 0 0\n",
      "128 0 0\n",
      "128 0 0\n",
      "128 0 0\n",
      "128 0 0\n",
      "128 0 0\n",
      "128 0 0\n",
      "128 0 0\n",
      "128 0 0\n",
      "128 0 0\n",
      "128 0 0\n",
      "128 0 0\n",
      "128 0 0\n",
      "128 0 0\n",
      "128 0 0\n",
      "128 0 0\n",
      "128 0 0\n",
      "128 0 0\n",
      "128 0 0\n",
      "128 0 0\n",
      "128 0 0\n",
      "128 0 0\n",
      "128 0 0\n",
      "128 0 0\n",
      "128 0 0\n",
      "128 0 0\n",
      "128 0 0\n",
      "128 0 0\n",
      "128 0 0\n",
      "128 0 0\n",
      "128 0 0\n",
      "128 0 0\n",
      "128 0 0\n",
      "128 0 0\n",
      "128 0 0\n",
      "128 0 0\n",
      "128 0 0\n",
      "128 0 0\n",
      "128 0 0\n",
      "128 0 0\n",
      "128 0 0\n",
      "128 0 0\n",
      "128 0 0\n",
      "128 0 0\n",
      "128 0 0\n",
      "128 0 0\n",
      "128 0 0\n",
      "128 0 0\n",
      "128 0 0\n",
      "128 0 0\n",
      "128 0 0\n",
      "128 0 0\n",
      "128 0 0\n",
      "128 0 0\n",
      "128 0 0\n",
      "128 0 0\n",
      "128 0 0\n",
      "128 0 0\n",
      "128 0 0\n",
      "128 0 0\n",
      "128 0 0\n",
      "128 0 0\n",
      "128 0 0\n",
      "128 0 0\n",
      "128 0 0\n",
      "128 0 0\n",
      "128 0 0\n",
      "128 0 0\n",
      "128 0 0\n",
      "128 0 0\n",
      "128 0 0\n",
      "128 0 0\n",
      "128 0 0\n",
      "128 0 0\n",
      "128 0 0\n",
      "128 0 0\n",
      "128 0 0\n",
      "128 0 0\n",
      "128 0 0\n",
      "128 0 0\n",
      "128 0 0\n",
      "128 0 0\n",
      "128 0 0\n",
      "128 0 0\n",
      "128 0 0\n",
      "128 0 0\n",
      "128 0 0\n",
      "128 0 0\n",
      "128 0 0\n",
      "128 0 0\n",
      "128 0 0\n",
      "128 0 0\n",
      "128 0 0\n",
      "128 0 0\n",
      "128 0 0\n",
      "128 0 0\n",
      "128 0 0\n",
      "128 0 0\n",
      "128 0 0\n",
      "128 0 0\n",
      "128 0 0\n",
      "128 0 0\n",
      "128 0 0\n",
      "128 0 0\n",
      "128 0 0\n",
      "128 0 0\n",
      "128 0 0\n",
      "128 0 0\n",
      "128 0 0\n",
      "128 0 0\n",
      "128 0 0\n",
      "128 0 0\n",
      "128 0 0\n",
      "128 0 0\n",
      "128 0 0\n",
      "128 0 0\n",
      "128 0 0\n",
      "128 0 0\n",
      "128 0 0\n",
      "128 0 0\n",
      "128 0 0\n",
      "128 0 0\n",
      "128 0 0\n",
      "128 0 0\n",
      "128 0 0\n",
      "128 0 0\n",
      "128 0 0\n",
      "128 0 0\n",
      "128 0 0\n",
      "128 0 0\n",
      "128 0 0\n",
      "128 0 0\n",
      "128 0 0\n",
      "128 0 0\n",
      "128 0 0\n",
      "128 0 0\n",
      "128 0 0\n",
      "128 0 0\n",
      "128 0 0\n",
      "128 0 0\n",
      "128 0 0\n",
      "128 0 0\n",
      "128 0 0\n",
      "128 0 0\n",
      "128 0 0\n",
      "128 0 0\n",
      "128 0 0\n",
      "128 0 0\n",
      "128 0 0\n",
      "128 0 0\n",
      "128 0 0\n",
      "128 0 0\n",
      "128 0 0\n",
      "128 0 0\n",
      "128 0 0\n",
      "128 0 0\n",
      "128 0 0\n",
      "128 0 0\n",
      "128 0 0\n",
      "128 0 0\n",
      "128 0 0\n",
      "128 0 0\n",
      "128 0 0\n",
      "128 0 0\n",
      "128 0 0\n",
      "128 0 0\n",
      "128 0 0\n",
      "128 0 0\n",
      "128 0 0\n",
      "128 0 0\n",
      "128 0 0\n",
      "128 0 0\n",
      "128 0 0\n",
      "128 0 0\n",
      "128 0 0\n",
      "128 0 0\n",
      "128 0 0\n",
      "128 0 0\n",
      "128 0 0\n",
      "128 0 0\n",
      "128 0 0\n",
      "128 0 0\n",
      "128 0 0\n",
      "128 0 0\n",
      "128 0 0\n",
      "128 0 0\n",
      "128 0 0\n",
      "128 0 0\n",
      "128 0 0\n",
      "128 0 0\n",
      "128 0 0\n",
      "128 0 0\n",
      "128 0 0\n",
      "128 0 0\n",
      "128 0 0\n",
      "128 0 0\n",
      "128 0 0\n",
      "128 0 0\n",
      "128 0 0\n",
      "128 0 0\n",
      "128 0 0\n",
      "128 0 0\n",
      "128 0 0\n",
      "128 0 0\n",
      "128 0 0\n",
      "128 0 0\n",
      "128 0 0\n",
      "128 0 0\n",
      "128 0 0\n",
      "128 0 0\n",
      "128 0 0\n",
      "128 0 0\n",
      "128 0 0\n",
      "128 0 0\n",
      "128 0 0\n",
      "128 0 0\n",
      "128 0 0\n",
      "128 0 0\n",
      "128 0 0\n",
      "128 0 0\n",
      "128 0 0\n",
      "128 0 0\n",
      "128 0 0\n",
      "128 0 0\n",
      "128 0 0\n",
      "128 0 0\n",
      "128 0 0\n"
     ]
    },
    {
     "ename": "TypeError",
     "evalue": "emptyFunction() takes 0 positional arguments but 1 was given",
     "output_type": "error",
     "traceback": [
      "\u001b[0;31m---------------------------------------------------------------------------\u001b[0m",
      "\u001b[0;31mTypeError\u001b[0m                                 Traceback (most recent call last)",
      "\u001b[0;31mTypeError\u001b[0m: emptyFunction() takes 0 positional arguments but 1 was given"
     ]
    },
    {
     "name": "stdout",
     "output_type": "stream",
     "text": [
      "128 3 0\n"
     ]
    },
    {
     "ename": "TypeError",
     "evalue": "emptyFunction() takes 0 positional arguments but 1 was given",
     "output_type": "error",
     "traceback": [
      "\u001b[0;31m---------------------------------------------------------------------------\u001b[0m",
      "\u001b[0;31mTypeError\u001b[0m                                 Traceback (most recent call last)",
      "\u001b[0;31mTypeError\u001b[0m: emptyFunction() takes 0 positional arguments but 1 was given"
     ]
    },
    {
     "name": "stdout",
     "output_type": "stream",
     "text": [
      "128 11 0\n",
      "128 11 0\n"
     ]
    },
    {
     "ename": "TypeError",
     "evalue": "emptyFunction() takes 0 positional arguments but 1 was given",
     "output_type": "error",
     "traceback": [
      "\u001b[0;31m---------------------------------------------------------------------------\u001b[0m",
      "\u001b[0;31mTypeError\u001b[0m                                 Traceback (most recent call last)",
      "\u001b[0;31mTypeError\u001b[0m: emptyFunction() takes 0 positional arguments but 1 was given"
     ]
    },
    {
     "name": "stdout",
     "output_type": "stream",
     "text": [
      "128 20 0\n",
      "128 20 0\n"
     ]
    },
    {
     "ename": "TypeError",
     "evalue": "emptyFunction() takes 0 positional arguments but 1 was given",
     "output_type": "error",
     "traceback": [
      "\u001b[0;31m---------------------------------------------------------------------------\u001b[0m",
      "\u001b[0;31mTypeError\u001b[0m                                 Traceback (most recent call last)",
      "\u001b[0;31mTypeError\u001b[0m: emptyFunction() takes 0 positional arguments but 1 was given"
     ]
    },
    {
     "ename": "TypeError",
     "evalue": "emptyFunction() takes 0 positional arguments but 1 was given",
     "output_type": "error",
     "traceback": [
      "\u001b[0;31m---------------------------------------------------------------------------\u001b[0m",
      "\u001b[0;31mTypeError\u001b[0m                                 Traceback (most recent call last)",
      "\u001b[0;31mTypeError\u001b[0m: emptyFunction() takes 0 positional arguments but 1 was given"
     ]
    },
    {
     "name": "stdout",
     "output_type": "stream",
     "text": [
      "128 32 0\n"
     ]
    },
    {
     "ename": "TypeError",
     "evalue": "emptyFunction() takes 0 positional arguments but 1 was given",
     "output_type": "error",
     "traceback": [
      "\u001b[0;31m---------------------------------------------------------------------------\u001b[0m",
      "\u001b[0;31mTypeError\u001b[0m                                 Traceback (most recent call last)",
      "\u001b[0;31mTypeError\u001b[0m: emptyFunction() takes 0 positional arguments but 1 was given"
     ]
    },
    {
     "name": "stdout",
     "output_type": "stream",
     "text": [
      "128 36 0\n"
     ]
    },
    {
     "ename": "TypeError",
     "evalue": "emptyFunction() takes 0 positional arguments but 1 was given",
     "output_type": "error",
     "traceback": [
      "\u001b[0;31m---------------------------------------------------------------------------\u001b[0m",
      "\u001b[0;31mTypeError\u001b[0m                                 Traceback (most recent call last)",
      "\u001b[0;31mTypeError\u001b[0m: emptyFunction() takes 0 positional arguments but 1 was given"
     ]
    },
    {
     "name": "stdout",
     "output_type": "stream",
     "text": [
      "128 43 0\n",
      "128 43 0\n"
     ]
    },
    {
     "ename": "TypeError",
     "evalue": "emptyFunction() takes 0 positional arguments but 1 was given",
     "output_type": "error",
     "traceback": [
      "\u001b[0;31m---------------------------------------------------------------------------\u001b[0m",
      "\u001b[0;31mTypeError\u001b[0m                                 Traceback (most recent call last)",
      "\u001b[0;31mTypeError\u001b[0m: emptyFunction() takes 0 positional arguments but 1 was given"
     ]
    },
    {
     "name": "stdout",
     "output_type": "stream",
     "text": [
      "128 50 0\n"
     ]
    },
    {
     "ename": "TypeError",
     "evalue": "emptyFunction() takes 0 positional arguments but 1 was given",
     "output_type": "error",
     "traceback": [
      "\u001b[0;31m---------------------------------------------------------------------------\u001b[0m",
      "\u001b[0;31mTypeError\u001b[0m                                 Traceback (most recent call last)",
      "\u001b[0;31mTypeError\u001b[0m: emptyFunction() takes 0 positional arguments but 1 was given"
     ]
    },
    {
     "ename": "TypeError",
     "evalue": "emptyFunction() takes 0 positional arguments but 1 was given",
     "output_type": "error",
     "traceback": [
      "\u001b[0;31m---------------------------------------------------------------------------\u001b[0m",
      "\u001b[0;31mTypeError\u001b[0m                                 Traceback (most recent call last)",
      "\u001b[0;31mTypeError\u001b[0m: emptyFunction() takes 0 positional arguments but 1 was given"
     ]
    },
    {
     "name": "stdout",
     "output_type": "stream",
     "text": [
      "128 57 0\n"
     ]
    },
    {
     "ename": "TypeError",
     "evalue": "emptyFunction() takes 0 positional arguments but 1 was given",
     "output_type": "error",
     "traceback": [
      "\u001b[0;31m---------------------------------------------------------------------------\u001b[0m",
      "\u001b[0;31mTypeError\u001b[0m                                 Traceback (most recent call last)",
      "\u001b[0;31mTypeError\u001b[0m: emptyFunction() takes 0 positional arguments but 1 was given"
     ]
    },
    {
     "name": "stdout",
     "output_type": "stream",
     "text": [
      "128 61 0\n"
     ]
    },
    {
     "ename": "TypeError",
     "evalue": "emptyFunction() takes 0 positional arguments but 1 was given",
     "output_type": "error",
     "traceback": [
      "\u001b[0;31m---------------------------------------------------------------------------\u001b[0m",
      "\u001b[0;31mTypeError\u001b[0m                                 Traceback (most recent call last)",
      "\u001b[0;31mTypeError\u001b[0m: emptyFunction() takes 0 positional arguments but 1 was given"
     ]
    },
    {
     "ename": "TypeError",
     "evalue": "emptyFunction() takes 0 positional arguments but 1 was given",
     "output_type": "error",
     "traceback": [
      "\u001b[0;31m---------------------------------------------------------------------------\u001b[0m",
      "\u001b[0;31mTypeError\u001b[0m                                 Traceback (most recent call last)",
      "\u001b[0;31mTypeError\u001b[0m: emptyFunction() takes 0 positional arguments but 1 was given"
     ]
    },
    {
     "name": "stdout",
     "output_type": "stream",
     "text": [
      "128 67 0\n"
     ]
    },
    {
     "ename": "TypeError",
     "evalue": "emptyFunction() takes 0 positional arguments but 1 was given",
     "output_type": "error",
     "traceback": [
      "\u001b[0;31m---------------------------------------------------------------------------\u001b[0m",
      "\u001b[0;31mTypeError\u001b[0m                                 Traceback (most recent call last)",
      "\u001b[0;31mTypeError\u001b[0m: emptyFunction() takes 0 positional arguments but 1 was given"
     ]
    },
    {
     "name": "stdout",
     "output_type": "stream",
     "text": [
      "128 69 0\n"
     ]
    },
    {
     "ename": "TypeError",
     "evalue": "emptyFunction() takes 0 positional arguments but 1 was given",
     "output_type": "error",
     "traceback": [
      "\u001b[0;31m---------------------------------------------------------------------------\u001b[0m",
      "\u001b[0;31mTypeError\u001b[0m                                 Traceback (most recent call last)",
      "\u001b[0;31mTypeError\u001b[0m: emptyFunction() takes 0 positional arguments but 1 was given"
     ]
    },
    {
     "name": "stdout",
     "output_type": "stream",
     "text": [
      "128 71 0\n"
     ]
    },
    {
     "ename": "TypeError",
     "evalue": "emptyFunction() takes 0 positional arguments but 1 was given",
     "output_type": "error",
     "traceback": [
      "\u001b[0;31m---------------------------------------------------------------------------\u001b[0m",
      "\u001b[0;31mTypeError\u001b[0m                                 Traceback (most recent call last)",
      "\u001b[0;31mTypeError\u001b[0m: emptyFunction() takes 0 positional arguments but 1 was given"
     ]
    },
    {
     "ename": "TypeError",
     "evalue": "emptyFunction() takes 0 positional arguments but 1 was given",
     "output_type": "error",
     "traceback": [
      "\u001b[0;31m---------------------------------------------------------------------------\u001b[0m",
      "\u001b[0;31mTypeError\u001b[0m                                 Traceback (most recent call last)",
      "\u001b[0;31mTypeError\u001b[0m: emptyFunction() takes 0 positional arguments but 1 was given"
     ]
    },
    {
     "name": "stdout",
     "output_type": "stream",
     "text": [
      "128 75 0\n"
     ]
    },
    {
     "ename": "TypeError",
     "evalue": "emptyFunction() takes 0 positional arguments but 1 was given",
     "output_type": "error",
     "traceback": [
      "\u001b[0;31m---------------------------------------------------------------------------\u001b[0m",
      "\u001b[0;31mTypeError\u001b[0m                                 Traceback (most recent call last)",
      "\u001b[0;31mTypeError\u001b[0m: emptyFunction() takes 0 positional arguments but 1 was given"
     ]
    },
    {
     "name": "stdout",
     "output_type": "stream",
     "text": [
      "128 77 0\n"
     ]
    },
    {
     "ename": "TypeError",
     "evalue": "emptyFunction() takes 0 positional arguments but 1 was given",
     "output_type": "error",
     "traceback": [
      "\u001b[0;31m---------------------------------------------------------------------------\u001b[0m",
      "\u001b[0;31mTypeError\u001b[0m                                 Traceback (most recent call last)",
      "\u001b[0;31mTypeError\u001b[0m: emptyFunction() takes 0 positional arguments but 1 was given"
     ]
    },
    {
     "ename": "TypeError",
     "evalue": "emptyFunction() takes 0 positional arguments but 1 was given",
     "output_type": "error",
     "traceback": [
      "\u001b[0;31m---------------------------------------------------------------------------\u001b[0m",
      "\u001b[0;31mTypeError\u001b[0m                                 Traceback (most recent call last)",
      "\u001b[0;31mTypeError\u001b[0m: emptyFunction() takes 0 positional arguments but 1 was given"
     ]
    },
    {
     "name": "stdout",
     "output_type": "stream",
     "text": [
      "128 80 0\n"
     ]
    },
    {
     "ename": "TypeError",
     "evalue": "emptyFunction() takes 0 positional arguments but 1 was given",
     "output_type": "error",
     "traceback": [
      "\u001b[0;31m---------------------------------------------------------------------------\u001b[0m",
      "\u001b[0;31mTypeError\u001b[0m                                 Traceback (most recent call last)",
      "\u001b[0;31mTypeError\u001b[0m: emptyFunction() takes 0 positional arguments but 1 was given"
     ]
    },
    {
     "name": "stdout",
     "output_type": "stream",
     "text": [
      "128 82 0\n"
     ]
    },
    {
     "ename": "TypeError",
     "evalue": "emptyFunction() takes 0 positional arguments but 1 was given",
     "output_type": "error",
     "traceback": [
      "\u001b[0;31m---------------------------------------------------------------------------\u001b[0m",
      "\u001b[0;31mTypeError\u001b[0m                                 Traceback (most recent call last)",
      "\u001b[0;31mTypeError\u001b[0m: emptyFunction() takes 0 positional arguments but 1 was given"
     ]
    },
    {
     "name": "stdout",
     "output_type": "stream",
     "text": [
      "128 87 0\n",
      "128 87 0\n"
     ]
    },
    {
     "ename": "TypeError",
     "evalue": "emptyFunction() takes 0 positional arguments but 1 was given",
     "output_type": "error",
     "traceback": [
      "\u001b[0;31m---------------------------------------------------------------------------\u001b[0m",
      "\u001b[0;31mTypeError\u001b[0m                                 Traceback (most recent call last)",
      "\u001b[0;31mTypeError\u001b[0m: emptyFunction() takes 0 positional arguments but 1 was given"
     ]
    },
    {
     "name": "stdout",
     "output_type": "stream",
     "text": [
      "128 94 0\n"
     ]
    },
    {
     "ename": "TypeError",
     "evalue": "emptyFunction() takes 0 positional arguments but 1 was given",
     "output_type": "error",
     "traceback": [
      "\u001b[0;31m---------------------------------------------------------------------------\u001b[0m",
      "\u001b[0;31mTypeError\u001b[0m                                 Traceback (most recent call last)",
      "\u001b[0;31mTypeError\u001b[0m: emptyFunction() takes 0 positional arguments but 1 was given"
     ]
    },
    {
     "name": "stdout",
     "output_type": "stream",
     "text": [
      "128 98 0\n"
     ]
    },
    {
     "ename": "TypeError",
     "evalue": "emptyFunction() takes 0 positional arguments but 1 was given",
     "output_type": "error",
     "traceback": [
      "\u001b[0;31m---------------------------------------------------------------------------\u001b[0m",
      "\u001b[0;31mTypeError\u001b[0m                                 Traceback (most recent call last)",
      "\u001b[0;31mTypeError\u001b[0m: emptyFunction() takes 0 positional arguments but 1 was given"
     ]
    },
    {
     "name": "stdout",
     "output_type": "stream",
     "text": [
      "128 102 0\n"
     ]
    },
    {
     "ename": "TypeError",
     "evalue": "emptyFunction() takes 0 positional arguments but 1 was given",
     "output_type": "error",
     "traceback": [
      "\u001b[0;31m---------------------------------------------------------------------------\u001b[0m",
      "\u001b[0;31mTypeError\u001b[0m                                 Traceback (most recent call last)",
      "\u001b[0;31mTypeError\u001b[0m: emptyFunction() takes 0 positional arguments but 1 was given"
     ]
    },
    {
     "name": "stdout",
     "output_type": "stream",
     "text": [
      "128 110 0\n"
     ]
    },
    {
     "ename": "TypeError",
     "evalue": "emptyFunction() takes 0 positional arguments but 1 was given",
     "output_type": "error",
     "traceback": [
      "\u001b[0;31m---------------------------------------------------------------------------\u001b[0m",
      "\u001b[0;31mTypeError\u001b[0m                                 Traceback (most recent call last)",
      "\u001b[0;31mTypeError\u001b[0m: emptyFunction() takes 0 positional arguments but 1 was given"
     ]
    },
    {
     "ename": "TypeError",
     "evalue": "emptyFunction() takes 0 positional arguments but 1 was given",
     "output_type": "error",
     "traceback": [
      "\u001b[0;31m---------------------------------------------------------------------------\u001b[0m",
      "\u001b[0;31mTypeError\u001b[0m                                 Traceback (most recent call last)",
      "\u001b[0;31mTypeError\u001b[0m: emptyFunction() takes 0 positional arguments but 1 was given"
     ]
    },
    {
     "name": "stdout",
     "output_type": "stream",
     "text": [
      "128 116 0\n"
     ]
    },
    {
     "ename": "TypeError",
     "evalue": "emptyFunction() takes 0 positional arguments but 1 was given",
     "output_type": "error",
     "traceback": [
      "\u001b[0;31m---------------------------------------------------------------------------\u001b[0m",
      "\u001b[0;31mTypeError\u001b[0m                                 Traceback (most recent call last)",
      "\u001b[0;31mTypeError\u001b[0m: emptyFunction() takes 0 positional arguments but 1 was given"
     ]
    },
    {
     "ename": "TypeError",
     "evalue": "emptyFunction() takes 0 positional arguments but 1 was given",
     "output_type": "error",
     "traceback": [
      "\u001b[0;31m---------------------------------------------------------------------------\u001b[0m",
      "\u001b[0;31mTypeError\u001b[0m                                 Traceback (most recent call last)",
      "\u001b[0;31mTypeError\u001b[0m: emptyFunction() takes 0 positional arguments but 1 was given"
     ]
    },
    {
     "name": "stdout",
     "output_type": "stream",
     "text": [
      "128 120 0\n"
     ]
    },
    {
     "ename": "TypeError",
     "evalue": "emptyFunction() takes 0 positional arguments but 1 was given",
     "output_type": "error",
     "traceback": [
      "\u001b[0;31m---------------------------------------------------------------------------\u001b[0m",
      "\u001b[0;31mTypeError\u001b[0m                                 Traceback (most recent call last)",
      "\u001b[0;31mTypeError\u001b[0m: emptyFunction() takes 0 positional arguments but 1 was given"
     ]
    },
    {
     "name": "stdout",
     "output_type": "stream",
     "text": [
      "128 122 0\n"
     ]
    },
    {
     "ename": "TypeError",
     "evalue": "emptyFunction() takes 0 positional arguments but 1 was given",
     "output_type": "error",
     "traceback": [
      "\u001b[0;31m---------------------------------------------------------------------------\u001b[0m",
      "\u001b[0;31mTypeError\u001b[0m                                 Traceback (most recent call last)",
      "\u001b[0;31mTypeError\u001b[0m: emptyFunction() takes 0 positional arguments but 1 was given"
     ]
    },
    {
     "ename": "TypeError",
     "evalue": "emptyFunction() takes 0 positional arguments but 1 was given",
     "output_type": "error",
     "traceback": [
      "\u001b[0;31m---------------------------------------------------------------------------\u001b[0m",
      "\u001b[0;31mTypeError\u001b[0m                                 Traceback (most recent call last)",
      "\u001b[0;31mTypeError\u001b[0m: emptyFunction() takes 0 positional arguments but 1 was given"
     ]
    },
    {
     "name": "stdout",
     "output_type": "stream",
     "text": [
      "128 128 0\n",
      "128 128 0\n"
     ]
    },
    {
     "ename": "TypeError",
     "evalue": "emptyFunction() takes 0 positional arguments but 1 was given",
     "output_type": "error",
     "traceback": [
      "\u001b[0;31m---------------------------------------------------------------------------\u001b[0m",
      "\u001b[0;31mTypeError\u001b[0m                                 Traceback (most recent call last)",
      "\u001b[0;31mTypeError\u001b[0m: emptyFunction() takes 0 positional arguments but 1 was given"
     ]
    },
    {
     "ename": "TypeError",
     "evalue": "emptyFunction() takes 0 positional arguments but 1 was given",
     "output_type": "error",
     "traceback": [
      "\u001b[0;31m---------------------------------------------------------------------------\u001b[0m",
      "\u001b[0;31mTypeError\u001b[0m                                 Traceback (most recent call last)",
      "\u001b[0;31mTypeError\u001b[0m: emptyFunction() takes 0 positional arguments but 1 was given"
     ]
    },
    {
     "name": "stdout",
     "output_type": "stream",
     "text": [
      "128 133 0\n"
     ]
    },
    {
     "ename": "TypeError",
     "evalue": "emptyFunction() takes 0 positional arguments but 1 was given",
     "output_type": "error",
     "traceback": [
      "\u001b[0;31m---------------------------------------------------------------------------\u001b[0m",
      "\u001b[0;31mTypeError\u001b[0m                                 Traceback (most recent call last)",
      "\u001b[0;31mTypeError\u001b[0m: emptyFunction() takes 0 positional arguments but 1 was given"
     ]
    },
    {
     "name": "stdout",
     "output_type": "stream",
     "text": [
      "128 135 0\n"
     ]
    },
    {
     "ename": "TypeError",
     "evalue": "emptyFunction() takes 0 positional arguments but 1 was given",
     "output_type": "error",
     "traceback": [
      "\u001b[0;31m---------------------------------------------------------------------------\u001b[0m",
      "\u001b[0;31mTypeError\u001b[0m                                 Traceback (most recent call last)",
      "\u001b[0;31mTypeError\u001b[0m: emptyFunction() takes 0 positional arguments but 1 was given"
     ]
    },
    {
     "name": "stdout",
     "output_type": "stream",
     "text": [
      "128 137 0\n"
     ]
    },
    {
     "ename": "TypeError",
     "evalue": "emptyFunction() takes 0 positional arguments but 1 was given",
     "output_type": "error",
     "traceback": [
      "\u001b[0;31m---------------------------------------------------------------------------\u001b[0m",
      "\u001b[0;31mTypeError\u001b[0m                                 Traceback (most recent call last)",
      "\u001b[0;31mTypeError\u001b[0m: emptyFunction() takes 0 positional arguments but 1 was given"
     ]
    },
    {
     "name": "stdout",
     "output_type": "stream",
     "text": [
      "128 140 0\n"
     ]
    },
    {
     "ename": "TypeError",
     "evalue": "emptyFunction() takes 0 positional arguments but 1 was given",
     "output_type": "error",
     "traceback": [
      "\u001b[0;31m---------------------------------------------------------------------------\u001b[0m",
      "\u001b[0;31mTypeError\u001b[0m                                 Traceback (most recent call last)",
      "\u001b[0;31mTypeError\u001b[0m: emptyFunction() takes 0 positional arguments but 1 was given"
     ]
    },
    {
     "ename": "TypeError",
     "evalue": "emptyFunction() takes 0 positional arguments but 1 was given",
     "output_type": "error",
     "traceback": [
      "\u001b[0;31m---------------------------------------------------------------------------\u001b[0m",
      "\u001b[0;31mTypeError\u001b[0m                                 Traceback (most recent call last)",
      "\u001b[0;31mTypeError\u001b[0m: emptyFunction() takes 0 positional arguments but 1 was given"
     ]
    },
    {
     "name": "stdout",
     "output_type": "stream",
     "text": [
      "128 143 0\n"
     ]
    },
    {
     "ename": "TypeError",
     "evalue": "emptyFunction() takes 0 positional arguments but 1 was given",
     "output_type": "error",
     "traceback": [
      "\u001b[0;31m---------------------------------------------------------------------------\u001b[0m",
      "\u001b[0;31mTypeError\u001b[0m                                 Traceback (most recent call last)",
      "\u001b[0;31mTypeError\u001b[0m: emptyFunction() takes 0 positional arguments but 1 was given"
     ]
    },
    {
     "name": "stdout",
     "output_type": "stream",
     "text": [
      "128 144 0\n"
     ]
    },
    {
     "ename": "TypeError",
     "evalue": "emptyFunction() takes 0 positional arguments but 1 was given",
     "output_type": "error",
     "traceback": [
      "\u001b[0;31m---------------------------------------------------------------------------\u001b[0m",
      "\u001b[0;31mTypeError\u001b[0m                                 Traceback (most recent call last)",
      "\u001b[0;31mTypeError\u001b[0m: emptyFunction() takes 0 positional arguments but 1 was given"
     ]
    },
    {
     "name": "stdout",
     "output_type": "stream",
     "text": [
      "128 145 0\n",
      "128 145 0\n",
      "128 145 0\n",
      "128 145 0\n",
      "128 145 0\n",
      "128 145 0\n"
     ]
    },
    {
     "ename": "TypeError",
     "evalue": "emptyFunction() takes 0 positional arguments but 1 was given",
     "output_type": "error",
     "traceback": [
      "\u001b[0;31m---------------------------------------------------------------------------\u001b[0m",
      "\u001b[0;31mTypeError\u001b[0m                                 Traceback (most recent call last)",
      "\u001b[0;31mTypeError\u001b[0m: emptyFunction() takes 0 positional arguments but 1 was given"
     ]
    },
    {
     "ename": "TypeError",
     "evalue": "emptyFunction() takes 0 positional arguments but 1 was given",
     "output_type": "error",
     "traceback": [
      "\u001b[0;31m---------------------------------------------------------------------------\u001b[0m",
      "\u001b[0;31mTypeError\u001b[0m                                 Traceback (most recent call last)",
      "\u001b[0;31mTypeError\u001b[0m: emptyFunction() takes 0 positional arguments but 1 was given"
     ]
    },
    {
     "name": "stdout",
     "output_type": "stream",
     "text": [
      "128 147 0\n",
      "128 147 0\n"
     ]
    },
    {
     "ename": "TypeError",
     "evalue": "emptyFunction() takes 0 positional arguments but 1 was given",
     "output_type": "error",
     "traceback": [
      "\u001b[0;31m---------------------------------------------------------------------------\u001b[0m",
      "\u001b[0;31mTypeError\u001b[0m                                 Traceback (most recent call last)",
      "\u001b[0;31mTypeError\u001b[0m: emptyFunction() takes 0 positional arguments but 1 was given"
     ]
    },
    {
     "name": "stdout",
     "output_type": "stream",
     "text": [
      "128 148 0\n"
     ]
    },
    {
     "ename": "TypeError",
     "evalue": "emptyFunction() takes 0 positional arguments but 1 was given",
     "output_type": "error",
     "traceback": [
      "\u001b[0;31m---------------------------------------------------------------------------\u001b[0m",
      "\u001b[0;31mTypeError\u001b[0m                                 Traceback (most recent call last)",
      "\u001b[0;31mTypeError\u001b[0m: emptyFunction() takes 0 positional arguments but 1 was given"
     ]
    },
    {
     "ename": "TypeError",
     "evalue": "emptyFunction() takes 0 positional arguments but 1 was given",
     "output_type": "error",
     "traceback": [
      "\u001b[0;31m---------------------------------------------------------------------------\u001b[0m",
      "\u001b[0;31mTypeError\u001b[0m                                 Traceback (most recent call last)",
      "\u001b[0;31mTypeError\u001b[0m: emptyFunction() takes 0 positional arguments but 1 was given"
     ]
    },
    {
     "name": "stdout",
     "output_type": "stream",
     "text": [
      "128 151 0\n",
      "128 151 0\n"
     ]
    },
    {
     "ename": "TypeError",
     "evalue": "emptyFunction() takes 0 positional arguments but 1 was given",
     "output_type": "error",
     "traceback": [
      "\u001b[0;31m---------------------------------------------------------------------------\u001b[0m",
      "\u001b[0;31mTypeError\u001b[0m                                 Traceback (most recent call last)",
      "\u001b[0;31mTypeError\u001b[0m: emptyFunction() takes 0 positional arguments but 1 was given"
     ]
    },
    {
     "name": "stdout",
     "output_type": "stream",
     "text": [
      "128 153 0\n"
     ]
    },
    {
     "ename": "TypeError",
     "evalue": "emptyFunction() takes 0 positional arguments but 1 was given",
     "output_type": "error",
     "traceback": [
      "\u001b[0;31m---------------------------------------------------------------------------\u001b[0m",
      "\u001b[0;31mTypeError\u001b[0m                                 Traceback (most recent call last)",
      "\u001b[0;31mTypeError\u001b[0m: emptyFunction() takes 0 positional arguments but 1 was given"
     ]
    },
    {
     "ename": "TypeError",
     "evalue": "emptyFunction() takes 0 positional arguments but 1 was given",
     "output_type": "error",
     "traceback": [
      "\u001b[0;31m---------------------------------------------------------------------------\u001b[0m",
      "\u001b[0;31mTypeError\u001b[0m                                 Traceback (most recent call last)",
      "\u001b[0;31mTypeError\u001b[0m: emptyFunction() takes 0 positional arguments but 1 was given"
     ]
    },
    {
     "name": "stdout",
     "output_type": "stream",
     "text": [
      "128 155 0\n",
      "128 155 0\n",
      "128 155 0\n"
     ]
    },
    {
     "ename": "TypeError",
     "evalue": "emptyFunction() takes 0 positional arguments but 1 was given",
     "output_type": "error",
     "traceback": [
      "\u001b[0;31m---------------------------------------------------------------------------\u001b[0m",
      "\u001b[0;31mTypeError\u001b[0m                                 Traceback (most recent call last)",
      "\u001b[0;31mTypeError\u001b[0m: emptyFunction() takes 0 positional arguments but 1 was given"
     ]
    },
    {
     "name": "stdout",
     "output_type": "stream",
     "text": [
      "128 156 0\n",
      "128 156 0\n"
     ]
    },
    {
     "ename": "TypeError",
     "evalue": "emptyFunction() takes 0 positional arguments but 1 was given",
     "output_type": "error",
     "traceback": [
      "\u001b[0;31m---------------------------------------------------------------------------\u001b[0m",
      "\u001b[0;31mTypeError\u001b[0m                                 Traceback (most recent call last)",
      "\u001b[0;31mTypeError\u001b[0m: emptyFunction() takes 0 positional arguments but 1 was given"
     ]
    },
    {
     "name": "stdout",
     "output_type": "stream",
     "text": [
      "128 157 0\n",
      "128 157 0\n",
      "128 157 0\n",
      "128 157 0\n",
      "128 157 0\n",
      "128 157 0\n",
      "128 157 0\n",
      "128 157 0\n",
      "128 157 0\n",
      "128 157 0\n"
     ]
    },
    {
     "ename": "TypeError",
     "evalue": "emptyFunction() takes 0 positional arguments but 1 was given",
     "output_type": "error",
     "traceback": [
      "\u001b[0;31m---------------------------------------------------------------------------\u001b[0m",
      "\u001b[0;31mTypeError\u001b[0m                                 Traceback (most recent call last)",
      "\u001b[0;31mTypeError\u001b[0m: emptyFunction() takes 0 positional arguments but 1 was given"
     ]
    },
    {
     "name": "stdout",
     "output_type": "stream",
     "text": [
      "128 159 0\n",
      "128 159 0\n",
      "128 159 0\n",
      "128 159 0\n",
      "128 159 0\n",
      "128 159 0\n",
      "128 159 0\n",
      "128 159 0\n",
      "128 159 0\n",
      "128 159 0\n",
      "128 159 0\n",
      "128 159 0\n",
      "128 159 0\n",
      "128 159 0\n",
      "128 159 0\n",
      "128 159 0\n",
      "128 159 0\n",
      "128 159 0\n",
      "128 159 0\n",
      "128 159 0\n",
      "128 159 0\n",
      "128 159 0\n",
      "128 159 0\n",
      "128 159 0\n",
      "128 159 0\n",
      "128 159 0\n",
      "128 159 0\n",
      "128 159 0\n",
      "128 159 0\n",
      "128 159 0\n",
      "128 159 0\n",
      "128 159 0\n",
      "128 159 0\n",
      "128 159 0\n",
      "128 159 0\n",
      "128 159 0\n",
      "128 159 0\n",
      "128 159 0\n",
      "128 159 0\n",
      "128 159 0\n",
      "128 159 0\n",
      "128 159 0\n",
      "128 159 0\n",
      "128 159 0\n",
      "128 159 0\n",
      "128 159 0\n",
      "128 159 0\n",
      "128 159 0\n",
      "128 159 0\n",
      "128 159 0\n",
      "128 159 0\n",
      "128 159 0\n",
      "128 159 0\n",
      "128 159 0\n",
      "128 159 0\n",
      "128 159 0\n",
      "128 159 0\n",
      "128 159 0\n",
      "128 159 0\n",
      "128 159 0\n",
      "128 159 0\n",
      "128 159 0\n",
      "128 159 0\n",
      "128 159 0\n",
      "128 159 0\n",
      "128 159 0\n",
      "128 159 0\n",
      "128 159 0\n",
      "128 159 0\n",
      "128 159 0\n",
      "128 159 0\n",
      "128 159 0\n",
      "128 159 0\n",
      "128 159 0\n",
      "128 159 0\n",
      "128 159 0\n",
      "128 159 0\n",
      "128 159 0\n",
      "128 159 0\n",
      "128 159 0\n",
      "128 159 0\n",
      "128 159 0\n",
      "128 159 0\n",
      "128 159 0\n",
      "128 159 0\n",
      "128 159 0\n",
      "128 159 0\n",
      "128 159 0\n",
      "128 159 0\n",
      "128 159 0\n",
      "128 159 0\n",
      "128 159 0\n",
      "128 159 0\n",
      "128 159 0\n",
      "128 159 0\n",
      "128 159 0\n",
      "128 159 0\n",
      "128 159 0\n",
      "128 159 0\n",
      "128 159 0\n",
      "128 159 0\n",
      "128 159 0\n",
      "128 159 0\n",
      "128 159 0\n",
      "128 159 0\n",
      "128 159 0\n",
      "128 159 0\n",
      "128 159 0\n",
      "128 159 0\n",
      "128 159 0\n",
      "128 159 0\n",
      "128 159 0\n",
      "128 159 0\n",
      "128 159 0\n",
      "128 159 0\n",
      "128 159 0\n",
      "128 159 0\n",
      "128 159 0\n",
      "128 159 0\n",
      "128 159 0\n",
      "128 159 0\n",
      "128 159 0\n",
      "128 159 0\n",
      "128 159 0\n",
      "128 159 0\n",
      "128 159 0\n",
      "128 159 0\n",
      "128 159 0\n",
      "128 159 0\n",
      "128 159 0\n",
      "128 159 0\n",
      "128 159 0\n",
      "128 159 0\n",
      "128 159 0\n",
      "128 159 0\n",
      "128 159 0\n",
      "128 159 0\n",
      "128 159 0\n",
      "128 159 0\n",
      "128 159 0\n",
      "128 159 0\n",
      "128 159 0\n",
      "128 159 0\n",
      "128 159 0\n",
      "128 159 0\n",
      "128 159 0\n",
      "128 159 0\n",
      "128 159 0\n",
      "128 159 0\n",
      "128 159 0\n",
      "128 159 0\n",
      "128 159 0\n",
      "128 159 0\n",
      "128 159 0\n",
      "128 159 0\n",
      "128 159 0\n",
      "128 159 0\n",
      "128 159 0\n",
      "128 159 0\n",
      "128 159 0\n",
      "128 159 0\n",
      "128 159 0\n",
      "128 159 0\n",
      "128 159 0\n",
      "128 159 0\n",
      "128 159 0\n",
      "128 159 0\n",
      "128 159 0\n",
      "128 159 0\n",
      "128 159 0\n",
      "128 159 0\n",
      "128 159 0\n",
      "128 159 0\n",
      "128 159 0\n",
      "128 159 0\n",
      "128 159 0\n",
      "128 159 0\n",
      "128 159 0\n",
      "128 159 0\n",
      "128 159 0\n",
      "128 159 0\n",
      "128 159 0\n",
      "128 159 0\n",
      "128 159 0\n",
      "128 159 0\n",
      "128 159 0\n",
      "128 159 0\n",
      "128 159 0\n",
      "128 159 0\n",
      "128 159 0\n",
      "128 159 0\n",
      "128 159 0\n",
      "128 159 0\n",
      "128 159 0\n",
      "128 159 0\n",
      "128 159 0\n",
      "128 159 0\n",
      "128 159 0\n",
      "128 159 0\n",
      "128 159 0\n",
      "128 159 0\n",
      "128 159 0\n",
      "128 159 0\n",
      "128 159 0\n",
      "128 159 0\n",
      "128 159 0\n",
      "128 159 0\n",
      "128 159 0\n",
      "128 159 0\n",
      "128 159 0\n",
      "128 159 0\n",
      "128 159 0\n",
      "128 159 0\n",
      "128 159 0\n",
      "128 159 0\n",
      "128 159 0\n",
      "128 159 0\n",
      "128 159 0\n",
      "128 159 0\n",
      "128 159 0\n",
      "128 159 0\n",
      "128 159 0\n",
      "128 159 0\n",
      "128 159 0\n",
      "128 159 0\n",
      "128 159 0\n",
      "128 159 0\n",
      "128 159 0\n",
      "128 159 0\n",
      "128 159 0\n",
      "128 159 0\n",
      "128 159 0\n",
      "128 159 0\n",
      "128 159 0\n",
      "128 159 0\n",
      "128 159 0\n",
      "128 159 0\n",
      "128 159 0\n",
      "128 159 0\n",
      "128 159 0\n",
      "128 159 0\n",
      "128 159 0\n",
      "128 159 0\n",
      "128 159 0\n",
      "128 159 0\n",
      "128 159 0\n",
      "128 159 0\n",
      "128 159 0\n",
      "128 159 0\n",
      "128 159 0\n",
      "128 159 0\n",
      "128 159 0\n",
      "128 159 0\n",
      "128 159 0\n",
      "128 159 0\n",
      "128 159 0\n",
      "128 159 0\n",
      "128 159 0\n",
      "128 159 0\n",
      "128 159 0\n",
      "128 159 0\n",
      "128 159 0\n",
      "128 159 0\n",
      "128 159 0\n",
      "128 159 0\n",
      "128 159 0\n",
      "128 159 0\n",
      "128 159 0\n",
      "128 159 0\n",
      "128 159 0\n",
      "128 159 0\n",
      "128 159 0\n",
      "128 159 0\n",
      "128 159 0\n",
      "128 159 0\n",
      "128 159 0\n",
      "128 159 0\n",
      "128 159 0\n",
      "128 159 0\n",
      "128 159 0\n",
      "128 159 0\n",
      "128 159 0\n",
      "128 159 0\n",
      "128 159 0\n",
      "128 159 0\n",
      "128 159 0\n",
      "128 159 0\n",
      "128 159 0\n",
      "128 159 0\n"
     ]
    },
    {
     "ename": "TypeError",
     "evalue": "emptyFunction() takes 0 positional arguments but 1 was given",
     "output_type": "error",
     "traceback": [
      "\u001b[0;31m---------------------------------------------------------------------------\u001b[0m",
      "\u001b[0;31mTypeError\u001b[0m                                 Traceback (most recent call last)",
      "\u001b[0;31mTypeError\u001b[0m: emptyFunction() takes 0 positional arguments but 1 was given"
     ]
    },
    {
     "name": "stdout",
     "output_type": "stream",
     "text": [
      "128 159 6\n"
     ]
    },
    {
     "ename": "TypeError",
     "evalue": "emptyFunction() takes 0 positional arguments but 1 was given",
     "output_type": "error",
     "traceback": [
      "\u001b[0;31m---------------------------------------------------------------------------\u001b[0m",
      "\u001b[0;31mTypeError\u001b[0m                                 Traceback (most recent call last)",
      "\u001b[0;31mTypeError\u001b[0m: emptyFunction() takes 0 positional arguments but 1 was given"
     ]
    },
    {
     "name": "stdout",
     "output_type": "stream",
     "text": [
      "128 159 13\n",
      "128 159 13\n"
     ]
    },
    {
     "ename": "TypeError",
     "evalue": "emptyFunction() takes 0 positional arguments but 1 was given",
     "output_type": "error",
     "traceback": [
      "\u001b[0;31m---------------------------------------------------------------------------\u001b[0m",
      "\u001b[0;31mTypeError\u001b[0m                                 Traceback (most recent call last)",
      "\u001b[0;31mTypeError\u001b[0m: emptyFunction() takes 0 positional arguments but 1 was given"
     ]
    },
    {
     "name": "stdout",
     "output_type": "stream",
     "text": [
      "128 159 23\n"
     ]
    },
    {
     "ename": "TypeError",
     "evalue": "emptyFunction() takes 0 positional arguments but 1 was given",
     "output_type": "error",
     "traceback": [
      "\u001b[0;31m---------------------------------------------------------------------------\u001b[0m",
      "\u001b[0;31mTypeError\u001b[0m                                 Traceback (most recent call last)",
      "\u001b[0;31mTypeError\u001b[0m: emptyFunction() takes 0 positional arguments but 1 was given"
     ]
    },
    {
     "name": "stdout",
     "output_type": "stream",
     "text": [
      "128 159 32\n"
     ]
    },
    {
     "ename": "TypeError",
     "evalue": "emptyFunction() takes 0 positional arguments but 1 was given",
     "output_type": "error",
     "traceback": [
      "\u001b[0;31m---------------------------------------------------------------------------\u001b[0m",
      "\u001b[0;31mTypeError\u001b[0m                                 Traceback (most recent call last)",
      "\u001b[0;31mTypeError\u001b[0m: emptyFunction() takes 0 positional arguments but 1 was given"
     ]
    },
    {
     "name": "stdout",
     "output_type": "stream",
     "text": [
      "128 159 38\n"
     ]
    },
    {
     "ename": "TypeError",
     "evalue": "emptyFunction() takes 0 positional arguments but 1 was given",
     "output_type": "error",
     "traceback": [
      "\u001b[0;31m---------------------------------------------------------------------------\u001b[0m",
      "\u001b[0;31mTypeError\u001b[0m                                 Traceback (most recent call last)",
      "\u001b[0;31mTypeError\u001b[0m: emptyFunction() takes 0 positional arguments but 1 was given"
     ]
    },
    {
     "ename": "TypeError",
     "evalue": "emptyFunction() takes 0 positional arguments but 1 was given",
     "output_type": "error",
     "traceback": [
      "\u001b[0;31m---------------------------------------------------------------------------\u001b[0m",
      "\u001b[0;31mTypeError\u001b[0m                                 Traceback (most recent call last)",
      "\u001b[0;31mTypeError\u001b[0m: emptyFunction() takes 0 positional arguments but 1 was given"
     ]
    },
    {
     "name": "stdout",
     "output_type": "stream",
     "text": [
      "128 159 48\n",
      "128 159 48\n"
     ]
    },
    {
     "ename": "TypeError",
     "evalue": "emptyFunction() takes 0 positional arguments but 1 was given",
     "output_type": "error",
     "traceback": [
      "\u001b[0;31m---------------------------------------------------------------------------\u001b[0m",
      "\u001b[0;31mTypeError\u001b[0m                                 Traceback (most recent call last)",
      "\u001b[0;31mTypeError\u001b[0m: emptyFunction() takes 0 positional arguments but 1 was given"
     ]
    },
    {
     "name": "stdout",
     "output_type": "stream",
     "text": [
      "128 159 55\n"
     ]
    },
    {
     "ename": "TypeError",
     "evalue": "emptyFunction() takes 0 positional arguments but 1 was given",
     "output_type": "error",
     "traceback": [
      "\u001b[0;31m---------------------------------------------------------------------------\u001b[0m",
      "\u001b[0;31mTypeError\u001b[0m                                 Traceback (most recent call last)",
      "\u001b[0;31mTypeError\u001b[0m: emptyFunction() takes 0 positional arguments but 1 was given"
     ]
    },
    {
     "name": "stdout",
     "output_type": "stream",
     "text": [
      "128 159 58\n"
     ]
    },
    {
     "ename": "TypeError",
     "evalue": "emptyFunction() takes 0 positional arguments but 1 was given",
     "output_type": "error",
     "traceback": [
      "\u001b[0;31m---------------------------------------------------------------------------\u001b[0m",
      "\u001b[0;31mTypeError\u001b[0m                                 Traceback (most recent call last)",
      "\u001b[0;31mTypeError\u001b[0m: emptyFunction() takes 0 positional arguments but 1 was given"
     ]
    },
    {
     "name": "stdout",
     "output_type": "stream",
     "text": [
      "128 159 59\n"
     ]
    },
    {
     "ename": "TypeError",
     "evalue": "emptyFunction() takes 0 positional arguments but 1 was given",
     "output_type": "error",
     "traceback": [
      "\u001b[0;31m---------------------------------------------------------------------------\u001b[0m",
      "\u001b[0;31mTypeError\u001b[0m                                 Traceback (most recent call last)",
      "\u001b[0;31mTypeError\u001b[0m: emptyFunction() takes 0 positional arguments but 1 was given"
     ]
    },
    {
     "ename": "TypeError",
     "evalue": "emptyFunction() takes 0 positional arguments but 1 was given",
     "output_type": "error",
     "traceback": [
      "\u001b[0;31m---------------------------------------------------------------------------\u001b[0m",
      "\u001b[0;31mTypeError\u001b[0m                                 Traceback (most recent call last)",
      "\u001b[0;31mTypeError\u001b[0m: emptyFunction() takes 0 positional arguments but 1 was given"
     ]
    },
    {
     "name": "stdout",
     "output_type": "stream",
     "text": [
      "128 159 63\n",
      "128 159 63\n"
     ]
    },
    {
     "ename": "TypeError",
     "evalue": "emptyFunction() takes 0 positional arguments but 1 was given",
     "output_type": "error",
     "traceback": [
      "\u001b[0;31m---------------------------------------------------------------------------\u001b[0m",
      "\u001b[0;31mTypeError\u001b[0m                                 Traceback (most recent call last)",
      "\u001b[0;31mTypeError\u001b[0m: emptyFunction() takes 0 positional arguments but 1 was given"
     ]
    },
    {
     "name": "stdout",
     "output_type": "stream",
     "text": [
      "128 159 65\n"
     ]
    },
    {
     "ename": "TypeError",
     "evalue": "emptyFunction() takes 0 positional arguments but 1 was given",
     "output_type": "error",
     "traceback": [
      "\u001b[0;31m---------------------------------------------------------------------------\u001b[0m",
      "\u001b[0;31mTypeError\u001b[0m                                 Traceback (most recent call last)",
      "\u001b[0;31mTypeError\u001b[0m: emptyFunction() takes 0 positional arguments but 1 was given"
     ]
    },
    {
     "name": "stdout",
     "output_type": "stream",
     "text": [
      "128 159 66\n",
      "128 159 66\n"
     ]
    },
    {
     "ename": "TypeError",
     "evalue": "emptyFunction() takes 0 positional arguments but 1 was given",
     "output_type": "error",
     "traceback": [
      "\u001b[0;31m---------------------------------------------------------------------------\u001b[0m",
      "\u001b[0;31mTypeError\u001b[0m                                 Traceback (most recent call last)",
      "\u001b[0;31mTypeError\u001b[0m: emptyFunction() takes 0 positional arguments but 1 was given"
     ]
    },
    {
     "name": "stdout",
     "output_type": "stream",
     "text": [
      "128 159 67\n",
      "128 159 67\n",
      "128 159 67\n"
     ]
    },
    {
     "ename": "TypeError",
     "evalue": "emptyFunction() takes 0 positional arguments but 1 was given",
     "output_type": "error",
     "traceback": [
      "\u001b[0;31m---------------------------------------------------------------------------\u001b[0m",
      "\u001b[0;31mTypeError\u001b[0m                                 Traceback (most recent call last)",
      "\u001b[0;31mTypeError\u001b[0m: emptyFunction() takes 0 positional arguments but 1 was given"
     ]
    },
    {
     "ename": "TypeError",
     "evalue": "emptyFunction() takes 0 positional arguments but 1 was given",
     "output_type": "error",
     "traceback": [
      "\u001b[0;31m---------------------------------------------------------------------------\u001b[0m",
      "\u001b[0;31mTypeError\u001b[0m                                 Traceback (most recent call last)",
      "\u001b[0;31mTypeError\u001b[0m: emptyFunction() takes 0 positional arguments but 1 was given"
     ]
    },
    {
     "name": "stdout",
     "output_type": "stream",
     "text": [
      "128 159 69\n"
     ]
    },
    {
     "ename": "TypeError",
     "evalue": "emptyFunction() takes 0 positional arguments but 1 was given",
     "output_type": "error",
     "traceback": [
      "\u001b[0;31m---------------------------------------------------------------------------\u001b[0m",
      "\u001b[0;31mTypeError\u001b[0m                                 Traceback (most recent call last)",
      "\u001b[0;31mTypeError\u001b[0m: emptyFunction() takes 0 positional arguments but 1 was given"
     ]
    },
    {
     "name": "stdout",
     "output_type": "stream",
     "text": [
      "128 159 71\n"
     ]
    },
    {
     "ename": "TypeError",
     "evalue": "emptyFunction() takes 0 positional arguments but 1 was given",
     "output_type": "error",
     "traceback": [
      "\u001b[0;31m---------------------------------------------------------------------------\u001b[0m",
      "\u001b[0;31mTypeError\u001b[0m                                 Traceback (most recent call last)",
      "\u001b[0;31mTypeError\u001b[0m: emptyFunction() takes 0 positional arguments but 1 was given"
     ]
    },
    {
     "ename": "TypeError",
     "evalue": "emptyFunction() takes 0 positional arguments but 1 was given",
     "output_type": "error",
     "traceback": [
      "\u001b[0;31m---------------------------------------------------------------------------\u001b[0m",
      "\u001b[0;31mTypeError\u001b[0m                                 Traceback (most recent call last)",
      "\u001b[0;31mTypeError\u001b[0m: emptyFunction() takes 0 positional arguments but 1 was given"
     ]
    },
    {
     "name": "stdout",
     "output_type": "stream",
     "text": [
      "128 159 74\n",
      "128 159 74\n"
     ]
    },
    {
     "ename": "TypeError",
     "evalue": "emptyFunction() takes 0 positional arguments but 1 was given",
     "output_type": "error",
     "traceback": [
      "\u001b[0;31m---------------------------------------------------------------------------\u001b[0m",
      "\u001b[0;31mTypeError\u001b[0m                                 Traceback (most recent call last)",
      "\u001b[0;31mTypeError\u001b[0m: emptyFunction() takes 0 positional arguments but 1 was given"
     ]
    },
    {
     "name": "stdout",
     "output_type": "stream",
     "text": [
      "128 159 77\n",
      "128 159 77\n"
     ]
    },
    {
     "ename": "TypeError",
     "evalue": "emptyFunction() takes 0 positional arguments but 1 was given",
     "output_type": "error",
     "traceback": [
      "\u001b[0;31m---------------------------------------------------------------------------\u001b[0m",
      "\u001b[0;31mTypeError\u001b[0m                                 Traceback (most recent call last)",
      "\u001b[0;31mTypeError\u001b[0m: emptyFunction() takes 0 positional arguments but 1 was given"
     ]
    },
    {
     "ename": "TypeError",
     "evalue": "emptyFunction() takes 0 positional arguments but 1 was given",
     "output_type": "error",
     "traceback": [
      "\u001b[0;31m---------------------------------------------------------------------------\u001b[0m",
      "\u001b[0;31mTypeError\u001b[0m                                 Traceback (most recent call last)",
      "\u001b[0;31mTypeError\u001b[0m: emptyFunction() takes 0 positional arguments but 1 was given"
     ]
    },
    {
     "name": "stdout",
     "output_type": "stream",
     "text": [
      "128 159 81\n",
      "128 159 81\n",
      "128 159 81\n",
      "128 159 81\n",
      "128 159 81\n",
      "128 159 81\n",
      "128 159 81\n",
      "128 159 81\n",
      "128 159 81\n",
      "128 159 81\n",
      "128 159 81\n",
      "128 159 81\n",
      "128 159 81\n",
      "128 159 81\n",
      "128 159 81\n",
      "128 159 81\n",
      "128 159 81\n",
      "128 159 81\n",
      "128 159 81\n",
      "128 159 81\n",
      "128 159 81\n",
      "128 159 81\n",
      "128 159 81\n",
      "128 159 81\n",
      "128 159 81\n",
      "128 159 81\n",
      "128 159 81\n",
      "128 159 81\n",
      "128 159 81\n",
      "128 159 81\n",
      "128 159 81\n",
      "128 159 81\n",
      "128 159 81\n",
      "128 159 81\n",
      "128 159 81\n",
      "128 159 81\n",
      "128 159 81\n",
      "128 159 81\n",
      "128 159 81\n",
      "128 159 81\n",
      "128 159 81\n",
      "128 159 81\n",
      "128 159 81\n",
      "128 159 81\n",
      "128 159 81\n",
      "128 159 81\n",
      "128 159 81\n",
      "128 159 81\n",
      "128 159 81\n",
      "128 159 81\n",
      "128 159 81\n",
      "128 159 81\n",
      "128 159 81\n",
      "128 159 81\n",
      "128 159 81\n",
      "128 159 81\n",
      "128 159 81\n",
      "128 159 81\n",
      "128 159 81\n",
      "128 159 81\n",
      "128 159 81\n",
      "128 159 81\n",
      "128 159 81\n",
      "128 159 81\n",
      "128 159 81\n",
      "128 159 81\n",
      "128 159 81\n",
      "128 159 81\n",
      "128 159 81\n",
      "128 159 81\n",
      "128 159 81\n",
      "128 159 81\n",
      "128 159 81\n",
      "128 159 81\n",
      "128 159 81\n",
      "128 159 81\n",
      "128 159 81\n",
      "128 159 81\n",
      "128 159 81\n",
      "128 159 81\n",
      "128 159 81\n",
      "128 159 81\n",
      "128 159 81\n",
      "128 159 81\n",
      "128 159 81\n",
      "128 159 81\n",
      "128 159 81\n",
      "128 159 81\n",
      "128 159 81\n",
      "128 159 81\n",
      "128 159 81\n",
      "128 159 81\n",
      "128 159 81\n",
      "128 159 81\n",
      "128 159 81\n",
      "128 159 81\n",
      "128 159 81\n",
      "128 159 81\n",
      "128 159 81\n",
      "128 159 81\n",
      "128 159 81\n",
      "128 159 81\n",
      "128 159 81\n",
      "128 159 81\n",
      "128 159 81\n",
      "128 159 81\n",
      "128 159 81\n",
      "128 159 81\n",
      "128 159 81\n",
      "128 159 81\n",
      "128 159 81\n",
      "128 159 81\n",
      "128 159 81\n",
      "128 159 81\n",
      "128 159 81\n",
      "128 159 81\n",
      "128 159 81\n",
      "128 159 81\n",
      "128 159 81\n",
      "128 159 81\n",
      "128 159 81\n",
      "128 159 81\n",
      "128 159 81\n",
      "128 159 81\n",
      "128 159 81\n",
      "128 159 81\n",
      "128 159 81\n",
      "128 159 81\n",
      "128 159 81\n",
      "128 159 81\n",
      "128 159 81\n",
      "128 159 81\n",
      "128 159 81\n",
      "128 159 81\n",
      "128 159 81\n",
      "128 159 81\n",
      "128 159 81\n",
      "128 159 81\n",
      "128 159 81\n",
      "128 159 81\n",
      "128 159 81\n",
      "128 159 81\n",
      "128 159 81\n",
      "128 159 81\n",
      "128 159 81\n",
      "128 159 81\n",
      "128 159 81\n",
      "128 159 81\n",
      "128 159 81\n",
      "128 159 81\n",
      "128 159 81\n",
      "128 159 81\n",
      "128 159 81\n",
      "128 159 81\n",
      "128 159 81\n",
      "128 159 81\n",
      "128 159 81\n",
      "128 159 81\n",
      "128 159 81\n",
      "128 159 81\n",
      "128 159 81\n",
      "128 159 81\n",
      "128 159 81\n",
      "128 159 81\n",
      "128 159 81\n",
      "128 159 81\n",
      "128 159 81\n",
      "128 159 81\n",
      "128 159 81\n",
      "128 159 81\n",
      "128 159 81\n",
      "128 159 81\n",
      "128 159 81\n",
      "128 159 81\n",
      "128 159 81\n",
      "128 159 81\n",
      "128 159 81\n",
      "128 159 81\n",
      "128 159 81\n",
      "128 159 81\n",
      "128 159 81\n",
      "128 159 81\n",
      "128 159 81\n",
      "128 159 81\n",
      "128 159 81\n",
      "128 159 81\n",
      "128 159 81\n",
      "128 159 81\n",
      "128 159 81\n",
      "128 159 81\n",
      "128 159 81\n",
      "128 159 81\n",
      "128 159 81\n",
      "128 159 81\n",
      "128 159 81\n",
      "128 159 81\n",
      "128 159 81\n",
      "128 159 81\n",
      "128 159 81\n",
      "128 159 81\n",
      "128 159 81\n",
      "128 159 81\n",
      "128 159 81\n",
      "128 159 81\n",
      "128 159 81\n",
      "128 159 81\n",
      "128 159 81\n",
      "128 159 81\n",
      "128 159 81\n",
      "128 159 81\n",
      "128 159 81\n",
      "128 159 81\n",
      "128 159 81\n",
      "128 159 81\n",
      "128 159 81\n",
      "128 159 81\n",
      "128 159 81\n",
      "128 159 81\n",
      "128 159 81\n",
      "128 159 81\n",
      "128 159 81\n",
      "128 159 81\n",
      "128 159 81\n",
      "128 159 81\n",
      "128 159 81\n",
      "128 159 81\n",
      "128 159 81\n",
      "128 159 81\n",
      "128 159 81\n",
      "128 159 81\n",
      "128 159 81\n",
      "128 159 81\n",
      "128 159 81\n",
      "128 159 81\n",
      "128 159 81\n",
      "128 159 81\n",
      "128 159 81\n",
      "128 159 81\n",
      "128 159 81\n",
      "128 159 81\n",
      "128 159 81\n",
      "128 159 81\n",
      "128 159 81\n",
      "128 159 81\n",
      "128 159 81\n",
      "128 159 81\n",
      "128 159 81\n",
      "128 159 81\n",
      "128 159 81\n",
      "128 159 81\n",
      "128 159 81\n",
      "128 159 81\n",
      "128 159 81\n",
      "128 159 81\n",
      "128 159 81\n",
      "128 159 81\n",
      "128 159 81\n",
      "128 159 81\n",
      "128 159 81\n",
      "128 159 81\n",
      "128 159 81\n",
      "128 159 81\n",
      "128 159 81\n",
      "128 159 81\n",
      "128 159 81\n",
      "128 159 81\n",
      "128 159 81\n",
      "128 159 81\n",
      "128 159 81\n",
      "128 159 81\n",
      "128 159 81\n",
      "128 159 81\n",
      "128 159 81\n",
      "128 159 81\n",
      "128 159 81\n",
      "128 159 81\n",
      "128 159 81\n",
      "128 159 81\n",
      "128 159 81\n",
      "128 159 81\n",
      "128 159 81\n",
      "128 159 81\n",
      "128 159 81\n",
      "128 159 81\n",
      "128 159 81\n",
      "128 159 81\n",
      "128 159 81\n",
      "128 159 81\n",
      "128 159 81\n",
      "128 159 81\n",
      "128 159 81\n",
      "128 159 81\n",
      "128 159 81\n",
      "128 159 81\n",
      "128 159 81\n",
      "128 159 81\n",
      "128 159 81\n",
      "128 159 81\n",
      "128 159 81\n",
      "128 159 81\n",
      "128 159 81\n",
      "128 159 81\n",
      "128 159 81\n",
      "128 159 81\n",
      "128 159 81\n",
      "128 159 81\n",
      "128 159 81\n",
      "128 159 81\n",
      "128 159 81\n",
      "128 159 81\n",
      "128 159 81\n",
      "128 159 81\n",
      "128 159 81\n",
      "128 159 81\n",
      "128 159 81\n",
      "128 159 81\n",
      "128 159 81\n",
      "128 159 81\n",
      "128 159 81\n",
      "128 159 81\n",
      "128 159 81\n",
      "128 159 81\n",
      "128 159 81\n",
      "128 159 81\n",
      "128 159 81\n",
      "128 159 81\n",
      "128 159 81\n",
      "128 159 81\n",
      "128 159 81\n",
      "128 159 81\n",
      "128 159 81\n",
      "128 159 81\n",
      "128 159 81\n",
      "128 159 81\n",
      "128 159 81\n",
      "128 159 81\n",
      "128 159 81\n",
      "128 159 81\n",
      "128 159 81\n",
      "128 159 81\n",
      "128 159 81\n",
      "128 159 81\n",
      "128 159 81\n",
      "128 159 81\n",
      "128 159 81\n",
      "128 159 81\n",
      "128 159 81\n",
      "128 159 81\n",
      "128 159 81\n",
      "128 159 81\n",
      "128 159 81\n",
      "128 159 81\n",
      "128 159 81\n",
      "128 159 81\n",
      "128 159 81\n",
      "128 159 81\n",
      "128 159 81\n",
      "128 159 81\n",
      "128 159 81\n",
      "128 159 81\n",
      "128 159 81\n",
      "128 159 81\n",
      "128 159 81\n",
      "128 159 81\n",
      "128 159 81\n",
      "128 159 81\n",
      "128 159 81\n",
      "128 159 81\n",
      "128 159 81\n",
      "128 159 81\n",
      "128 159 81\n",
      "128 159 81\n",
      "128 159 81\n",
      "128 159 81\n",
      "128 159 81\n",
      "128 159 81\n",
      "128 159 81\n",
      "128 159 81\n",
      "128 159 81\n",
      "128 159 81\n",
      "128 159 81\n",
      "128 159 81\n",
      "128 159 81\n",
      "128 159 81\n",
      "128 159 81\n",
      "128 159 81\n",
      "128 159 81\n",
      "128 159 81\n",
      "128 159 81\n",
      "128 159 81\n",
      "128 159 81\n",
      "128 159 81\n",
      "128 159 81\n",
      "128 159 81\n",
      "128 159 81\n",
      "128 159 81\n",
      "128 159 81\n",
      "128 159 81\n",
      "128 159 81\n",
      "128 159 81\n",
      "128 159 81\n",
      "128 159 81\n",
      "128 159 81\n",
      "128 159 81\n",
      "128 159 81\n",
      "128 159 81\n",
      "128 159 81\n",
      "128 159 81\n",
      "128 159 81\n",
      "128 159 81\n",
      "128 159 81\n",
      "128 159 81\n",
      "128 159 81\n",
      "128 159 81\n",
      "128 159 81\n",
      "128 159 81\n",
      "128 159 81\n",
      "128 159 81\n",
      "128 159 81\n",
      "128 159 81\n",
      "128 159 81\n",
      "128 159 81\n",
      "128 159 81\n",
      "128 159 81\n",
      "128 159 81\n",
      "128 159 81\n",
      "128 159 81\n",
      "128 159 81\n",
      "128 159 81\n",
      "128 159 81\n",
      "128 159 81\n",
      "128 159 81\n",
      "128 159 81\n",
      "128 159 81\n",
      "128 159 81\n",
      "128 159 81\n",
      "128 159 81\n",
      "128 159 81\n",
      "128 159 81\n",
      "128 159 81\n",
      "128 159 81\n",
      "128 159 81\n",
      "128 159 81\n",
      "128 159 81\n",
      "128 159 81\n",
      "128 159 81\n",
      "128 159 81\n",
      "128 159 81\n",
      "128 159 81\n",
      "128 159 81\n",
      "128 159 81\n",
      "128 159 81\n",
      "128 159 81\n",
      "128 159 81\n",
      "128 159 81\n",
      "128 159 81\n",
      "128 159 81\n",
      "128 159 81\n",
      "128 159 81\n",
      "128 159 81\n",
      "128 159 81\n",
      "128 159 81\n",
      "128 159 81\n",
      "128 159 81\n",
      "128 159 81\n",
      "128 159 81\n",
      "128 159 81\n",
      "128 159 81\n",
      "128 159 81\n",
      "128 159 81\n",
      "128 159 81\n",
      "128 159 81\n",
      "128 159 81\n",
      "128 159 81\n",
      "128 159 81\n",
      "128 159 81\n",
      "128 159 81\n",
      "128 159 81\n",
      "128 159 81\n",
      "128 159 81\n",
      "128 159 81\n",
      "128 159 81\n",
      "128 159 81\n",
      "128 159 81\n",
      "128 159 81\n",
      "128 159 81\n",
      "128 159 81\n",
      "128 159 81\n",
      "128 159 81\n",
      "128 159 81\n",
      "128 159 81\n",
      "128 159 81\n",
      "128 159 81\n",
      "128 159 81\n",
      "128 159 81\n",
      "128 159 81\n",
      "128 159 81\n",
      "128 159 81\n",
      "128 159 81\n",
      "128 159 81\n",
      "128 159 81\n",
      "128 159 81\n",
      "128 159 81\n",
      "128 159 81\n",
      "128 159 81\n",
      "128 159 81\n",
      "128 159 81\n",
      "128 159 81\n",
      "128 159 81\n",
      "128 159 81\n",
      "128 159 81\n",
      "128 159 81\n",
      "128 159 81\n",
      "128 159 81\n",
      "128 159 81\n",
      "128 159 81\n",
      "128 159 81\n",
      "128 159 81\n",
      "128 159 81\n",
      "128 159 81\n",
      "128 159 81\n",
      "128 159 81\n",
      "128 159 81\n",
      "128 159 81\n",
      "128 159 81\n",
      "128 159 81\n",
      "128 159 81\n",
      "128 159 81\n",
      "128 159 81\n",
      "128 159 81\n",
      "128 159 81\n",
      "128 159 81\n",
      "128 159 81\n",
      "128 159 81\n",
      "128 159 81\n",
      "128 159 81\n",
      "128 159 81\n",
      "128 159 81\n",
      "128 159 81\n",
      "128 159 81\n",
      "128 159 81\n",
      "128 159 81\n",
      "128 159 81\n",
      "128 159 81\n",
      "128 159 81\n",
      "128 159 81\n",
      "128 159 81\n",
      "128 159 81\n",
      "128 159 81\n",
      "128 159 81\n",
      "128 159 81\n",
      "128 159 81\n",
      "128 159 81\n",
      "128 159 81\n",
      "128 159 81\n",
      "128 159 81\n",
      "128 159 81\n",
      "128 159 81\n",
      "128 159 81\n",
      "128 159 81\n",
      "128 159 81\n",
      "128 159 81\n",
      "128 159 81\n",
      "128 159 81\n",
      "128 159 81\n",
      "128 159 81\n",
      "128 159 81\n",
      "128 159 81\n",
      "128 159 81\n",
      "128 159 81\n",
      "128 159 81\n",
      "128 159 81\n",
      "128 159 81\n",
      "128 159 81\n",
      "128 159 81\n",
      "128 159 81\n",
      "128 159 81\n",
      "128 159 81\n",
      "128 159 81\n",
      "128 159 81\n",
      "128 159 81\n",
      "128 159 81\n",
      "128 159 81\n",
      "128 159 81\n",
      "128 159 81\n",
      "128 159 81\n",
      "128 159 81\n",
      "128 159 81\n",
      "128 159 81\n",
      "128 159 81\n",
      "128 159 81\n",
      "128 159 81\n",
      "128 159 81\n",
      "128 159 81\n",
      "128 159 81\n",
      "128 159 81\n",
      "128 159 81\n",
      "128 159 81\n",
      "128 159 81\n",
      "128 159 81\n",
      "128 159 81\n",
      "128 159 81\n",
      "128 159 81\n",
      "128 159 81\n",
      "128 159 81\n",
      "128 159 81\n",
      "128 159 81\n",
      "128 159 81\n",
      "128 159 81\n",
      "128 159 81\n",
      "128 159 81\n",
      "128 159 81\n",
      "128 159 81\n",
      "128 159 81\n",
      "128 159 81\n",
      "128 159 81\n",
      "128 159 81\n",
      "128 159 81\n",
      "128 159 81\n",
      "128 159 81\n",
      "128 159 81\n",
      "128 159 81\n",
      "128 159 81\n",
      "128 159 81\n",
      "128 159 81\n",
      "128 159 81\n",
      "128 159 81\n",
      "128 159 81\n",
      "128 159 81\n",
      "128 159 81\n",
      "128 159 81\n",
      "128 159 81\n",
      "128 159 81\n",
      "128 159 81\n",
      "128 159 81\n",
      "128 159 81\n",
      "128 159 81\n",
      "128 159 81\n",
      "128 159 81\n",
      "128 159 81\n",
      "128 159 81\n",
      "128 159 81\n",
      "128 159 81\n",
      "128 159 81\n",
      "128 159 81\n",
      "128 159 81\n",
      "128 159 81\n",
      "128 159 81\n",
      "128 159 81\n",
      "128 159 81\n",
      "128 159 81\n",
      "128 159 81\n",
      "128 159 81\n",
      "128 159 81\n",
      "128 159 81\n",
      "128 159 81\n",
      "128 159 81\n",
      "128 159 81\n",
      "128 159 81\n",
      "128 159 81\n",
      "128 159 81\n",
      "128 159 81\n",
      "128 159 81\n",
      "128 159 81\n",
      "128 159 81\n",
      "128 159 81\n",
      "128 159 81\n",
      "128 159 81\n",
      "128 159 81\n",
      "128 159 81\n",
      "128 159 81\n",
      "128 159 81\n",
      "128 159 81\n",
      "128 159 81\n",
      "128 159 81\n",
      "128 159 81\n",
      "128 159 81\n",
      "128 159 81\n",
      "128 159 81\n",
      "128 159 81\n",
      "128 159 81\n",
      "128 159 81\n",
      "128 159 81\n",
      "128 159 81\n",
      "128 159 81\n",
      "128 159 81\n",
      "128 159 81\n",
      "128 159 81\n",
      "128 159 81\n",
      "128 159 81\n",
      "128 159 81\n",
      "128 159 81\n",
      "128 159 81\n",
      "128 159 81\n",
      "128 159 81\n",
      "128 159 81\n",
      "128 159 81\n",
      "128 159 81\n",
      "128 159 81\n",
      "128 159 81\n",
      "128 159 81\n",
      "128 159 81\n",
      "128 159 81\n",
      "128 159 81\n",
      "128 159 81\n",
      "128 159 81\n",
      "128 159 81\n",
      "128 159 81\n",
      "128 159 81\n",
      "128 159 81\n",
      "128 159 81\n",
      "128 159 81\n",
      "128 159 81\n",
      "128 159 81\n",
      "128 159 81\n",
      "128 159 81\n",
      "128 159 81\n",
      "128 159 81\n",
      "128 159 81\n",
      "128 159 81\n",
      "128 159 81\n",
      "128 159 81\n",
      "128 159 81\n",
      "128 159 81\n",
      "128 159 81\n",
      "128 159 81\n",
      "128 159 81\n",
      "128 159 81\n",
      "128 159 81\n",
      "128 159 81\n",
      "128 159 81\n",
      "128 159 81\n",
      "128 159 81\n",
      "128 159 81\n",
      "128 159 81\n",
      "128 159 81\n",
      "128 159 81\n",
      "128 159 81\n",
      "128 159 81\n",
      "128 159 81\n",
      "128 159 81\n",
      "128 159 81\n",
      "128 159 81\n",
      "128 159 81\n",
      "128 159 81\n"
     ]
    },
    {
     "name": "stdout",
     "output_type": "stream",
     "text": [
      "128 159 81\n",
      "128 159 81\n",
      "128 159 81\n",
      "128 159 81\n",
      "128 159 81\n",
      "128 159 81\n",
      "128 159 81\n",
      "128 159 81\n",
      "128 159 81\n",
      "128 159 81\n",
      "128 159 81\n",
      "128 159 81\n",
      "128 159 81\n",
      "128 159 81\n",
      "128 159 81\n",
      "128 159 81\n",
      "128 159 81\n",
      "128 159 81\n",
      "128 159 81\n",
      "128 159 81\n",
      "128 159 81\n",
      "128 159 81\n",
      "128 159 81\n",
      "128 159 81\n",
      "128 159 81\n",
      "128 159 81\n",
      "128 159 81\n",
      "128 159 81\n",
      "128 159 81\n",
      "128 159 81\n",
      "128 159 81\n",
      "128 159 81\n",
      "128 159 81\n",
      "128 159 81\n",
      "128 159 81\n",
      "128 159 81\n",
      "128 159 81\n",
      "128 159 81\n",
      "128 159 81\n",
      "128 159 81\n",
      "128 159 81\n",
      "128 159 81\n",
      "128 159 81\n",
      "128 159 81\n",
      "128 159 81\n",
      "128 159 81\n",
      "128 159 81\n",
      "128 159 81\n",
      "128 159 81\n",
      "128 159 81\n",
      "128 159 81\n",
      "128 159 81\n",
      "128 159 81\n",
      "128 159 81\n",
      "128 159 81\n",
      "128 159 81\n",
      "128 159 81\n",
      "128 159 81\n",
      "128 159 81\n",
      "128 159 81\n",
      "128 159 81\n",
      "128 159 81\n",
      "128 159 81\n",
      "128 159 81\n",
      "128 159 81\n",
      "128 159 81\n",
      "128 159 81\n",
      "128 159 81\n",
      "128 159 81\n",
      "128 159 81\n",
      "128 159 81\n",
      "128 159 81\n",
      "128 159 81\n",
      "128 159 81\n",
      "128 159 81\n",
      "128 159 81\n",
      "128 159 81\n",
      "128 159 81\n",
      "128 159 81\n",
      "128 159 81\n",
      "128 159 81\n",
      "128 159 81\n",
      "128 159 81\n",
      "128 159 81\n",
      "128 159 81\n",
      "128 159 81\n",
      "128 159 81\n",
      "128 159 81\n",
      "128 159 81\n",
      "128 159 81\n",
      "128 159 81\n",
      "128 159 81\n",
      "128 159 81\n",
      "128 159 81\n",
      "128 159 81\n",
      "128 159 81\n",
      "128 159 81\n",
      "128 159 81\n",
      "128 159 81\n",
      "128 159 81\n",
      "128 159 81\n",
      "128 159 81\n",
      "128 159 81\n",
      "128 159 81\n",
      "128 159 81\n",
      "128 159 81\n",
      "128 159 81\n",
      "128 159 81\n",
      "128 159 81\n",
      "128 159 81\n",
      "128 159 81\n",
      "128 159 81\n",
      "128 159 81\n",
      "128 159 81\n",
      "128 159 81\n",
      "128 159 81\n",
      "128 159 81\n",
      "128 159 81\n",
      "128 159 81\n",
      "128 159 81\n",
      "128 159 81\n",
      "128 159 81\n",
      "128 159 81\n",
      "128 159 81\n",
      "128 159 81\n",
      "128 159 81\n",
      "128 159 81\n",
      "128 159 81\n",
      "128 159 81\n",
      "128 159 81\n",
      "128 159 81\n",
      "128 159 81\n",
      "128 159 81\n",
      "128 159 81\n",
      "128 159 81\n",
      "128 159 81\n",
      "128 159 81\n",
      "128 159 81\n",
      "128 159 81\n",
      "128 159 81\n",
      "128 159 81\n",
      "128 159 81\n",
      "128 159 81\n",
      "128 159 81\n",
      "128 159 81\n",
      "128 159 81\n",
      "128 159 81\n",
      "128 159 81\n",
      "128 159 81\n",
      "128 159 81\n",
      "128 159 81\n",
      "128 159 81\n",
      "128 159 81\n",
      "128 159 81\n",
      "128 159 81\n",
      "128 159 81\n",
      "128 159 81\n",
      "128 159 81\n",
      "128 159 81\n",
      "128 159 81\n",
      "128 159 81\n",
      "128 159 81\n",
      "128 159 81\n",
      "128 159 81\n",
      "128 159 81\n",
      "128 159 81\n",
      "128 159 81\n",
      "128 159 81\n",
      "128 159 81\n",
      "128 159 81\n",
      "128 159 81\n",
      "128 159 81\n",
      "128 159 81\n",
      "128 159 81\n",
      "128 159 81\n",
      "128 159 81\n",
      "128 159 81\n",
      "128 159 81\n",
      "128 159 81\n",
      "128 159 81\n",
      "128 159 81\n",
      "128 159 81\n",
      "128 159 81\n",
      "128 159 81\n",
      "128 159 81\n",
      "128 159 81\n",
      "128 159 81\n",
      "128 159 81\n",
      "128 159 81\n",
      "128 159 81\n",
      "128 159 81\n",
      "128 159 81\n",
      "128 159 81\n",
      "128 159 81\n",
      "128 159 81\n",
      "128 159 81\n",
      "128 159 81\n",
      "128 159 81\n",
      "128 159 81\n",
      "128 159 81\n",
      "128 159 81\n",
      "128 159 81\n",
      "128 159 81\n",
      "128 159 81\n",
      "128 159 81\n",
      "128 159 81\n",
      "128 159 81\n",
      "128 159 81\n",
      "128 159 81\n",
      "128 159 81\n",
      "128 159 81\n",
      "128 159 81\n",
      "128 159 81\n",
      "128 159 81\n",
      "128 159 81\n",
      "128 159 81\n",
      "128 159 81\n",
      "128 159 81\n",
      "128 159 81\n",
      "128 159 81\n",
      "128 159 81\n",
      "128 159 81\n",
      "128 159 81\n",
      "128 159 81\n",
      "128 159 81\n",
      "128 159 81\n",
      "128 159 81\n",
      "128 159 81\n",
      "128 159 81\n",
      "128 159 81\n",
      "128 159 81\n",
      "128 159 81\n",
      "128 159 81\n",
      "128 159 81\n",
      "128 159 81\n",
      "128 159 81\n",
      "128 159 81\n",
      "128 159 81\n",
      "128 159 81\n",
      "128 159 81\n",
      "128 159 81\n",
      "128 159 81\n",
      "128 159 81\n",
      "128 159 81\n",
      "128 159 81\n",
      "128 159 81\n",
      "128 159 81\n",
      "128 159 81\n",
      "128 159 81\n",
      "128 159 81\n",
      "128 159 81\n",
      "128 159 81\n",
      "128 159 81\n",
      "128 159 81\n",
      "128 159 81\n",
      "128 159 81\n",
      "128 159 81\n",
      "128 159 81\n",
      "128 159 81\n",
      "128 159 81\n",
      "128 159 81\n",
      "128 159 81\n",
      "128 159 81\n",
      "128 159 81\n",
      "128 159 81\n",
      "128 159 81\n",
      "128 159 81\n",
      "128 159 81\n",
      "128 159 81\n",
      "128 159 81\n",
      "128 159 81\n",
      "128 159 81\n",
      "128 159 81\n",
      "128 159 81\n",
      "128 159 81\n",
      "128 159 81\n",
      "128 159 81\n",
      "128 159 81\n",
      "128 159 81\n",
      "128 159 81\n",
      "128 159 81\n",
      "128 159 81\n",
      "128 159 81\n",
      "128 159 81\n",
      "128 159 81\n",
      "128 159 81\n",
      "128 159 81\n",
      "128 159 81\n",
      "128 159 81\n",
      "128 159 81\n",
      "128 159 81\n",
      "128 159 81\n",
      "128 159 81\n",
      "128 159 81\n",
      "128 159 81\n",
      "128 159 81\n",
      "128 159 81\n",
      "128 159 81\n",
      "128 159 81\n",
      "128 159 81\n",
      "128 159 81\n",
      "128 159 81\n",
      "128 159 81\n",
      "128 159 81\n",
      "128 159 81\n",
      "128 159 81\n",
      "128 159 81\n",
      "128 159 81\n",
      "128 159 81\n",
      "128 159 81\n",
      "128 159 81\n",
      "128 159 81\n",
      "128 159 81\n",
      "128 159 81\n",
      "128 159 81\n",
      "128 159 81\n",
      "128 159 81\n",
      "128 159 81\n",
      "128 159 81\n",
      "128 159 81\n",
      "128 159 81\n",
      "128 159 81\n",
      "128 159 81\n",
      "128 159 81\n",
      "128 159 81\n",
      "128 159 81\n",
      "128 159 81\n",
      "128 159 81\n",
      "128 159 81\n",
      "128 159 81\n",
      "128 159 81\n",
      "128 159 81\n",
      "128 159 81\n",
      "128 159 81\n",
      "128 159 81\n",
      "128 159 81\n",
      "128 159 81\n",
      "128 159 81\n",
      "128 159 81\n",
      "128 159 81\n",
      "128 159 81\n",
      "128 159 81\n",
      "128 159 81\n",
      "128 159 81\n",
      "128 159 81\n",
      "128 159 81\n",
      "128 159 81\n",
      "128 159 81\n",
      "128 159 81\n",
      "128 159 81\n",
      "128 159 81\n",
      "128 159 81\n",
      "128 159 81\n",
      "128 159 81\n",
      "128 159 81\n",
      "128 159 81\n",
      "128 159 81\n",
      "128 159 81\n",
      "128 159 81\n",
      "128 159 81\n",
      "128 159 81\n",
      "128 159 81\n",
      "128 159 81\n",
      "128 159 81\n",
      "128 159 81\n",
      "128 159 81\n",
      "128 159 81\n",
      "128 159 81\n",
      "128 159 81\n",
      "128 159 81\n",
      "128 159 81\n",
      "128 159 81\n",
      "128 159 81\n",
      "128 159 81\n",
      "128 159 81\n",
      "128 159 81\n",
      "128 159 81\n",
      "128 159 81\n",
      "128 159 81\n",
      "128 159 81\n",
      "128 159 81\n",
      "128 159 81\n",
      "128 159 81\n",
      "128 159 81\n",
      "128 159 81\n",
      "128 159 81\n",
      "128 159 81\n",
      "128 159 81\n",
      "128 159 81\n",
      "128 159 81\n",
      "128 159 81\n",
      "128 159 81\n",
      "128 159 81\n",
      "128 159 81\n",
      "128 159 81\n",
      "128 159 81\n",
      "128 159 81\n",
      "128 159 81\n",
      "128 159 81\n",
      "128 159 81\n",
      "128 159 81\n",
      "128 159 81\n",
      "128 159 81\n",
      "128 159 81\n",
      "128 159 81\n",
      "128 159 81\n",
      "128 159 81\n",
      "128 159 81\n",
      "128 159 81\n",
      "128 159 81\n",
      "128 159 81\n",
      "128 159 81\n",
      "128 159 81\n",
      "128 159 81\n",
      "128 159 81\n",
      "128 159 81\n",
      "128 159 81\n",
      "128 159 81\n",
      "128 159 81\n",
      "128 159 81\n",
      "128 159 81\n",
      "128 159 81\n",
      "128 159 81\n",
      "128 159 81\n",
      "128 159 81\n",
      "128 159 81\n",
      "128 159 81\n",
      "128 159 81\n",
      "128 159 81\n",
      "128 159 81\n",
      "128 159 81\n",
      "128 159 81\n",
      "128 159 81\n",
      "128 159 81\n",
      "128 159 81\n",
      "128 159 81\n",
      "128 159 81\n",
      "128 159 81\n",
      "128 159 81\n",
      "128 159 81\n",
      "128 159 81\n",
      "128 159 81\n",
      "128 159 81\n",
      "128 159 81\n",
      "128 159 81\n",
      "128 159 81\n",
      "128 159 81\n",
      "128 159 81\n",
      "128 159 81\n",
      "128 159 81\n",
      "128 159 81\n",
      "128 159 81\n",
      "128 159 81\n",
      "128 159 81\n",
      "128 159 81\n",
      "128 159 81\n",
      "128 159 81\n",
      "128 159 81\n",
      "128 159 81\n",
      "128 159 81\n",
      "128 159 81\n",
      "128 159 81\n",
      "128 159 81\n",
      "128 159 81\n",
      "128 159 81\n",
      "128 159 81\n",
      "128 159 81\n",
      "128 159 81\n",
      "128 159 81\n",
      "128 159 81\n",
      "128 159 81\n",
      "128 159 81\n",
      "128 159 81\n",
      "128 159 81\n",
      "128 159 81\n",
      "128 159 81\n",
      "128 159 81\n",
      "128 159 81\n",
      "128 159 81\n",
      "128 159 81\n",
      "128 159 81\n",
      "128 159 81\n",
      "128 159 81\n",
      "128 159 81\n",
      "128 159 81\n",
      "128 159 81\n",
      "128 159 81\n",
      "128 159 81\n",
      "128 159 81\n",
      "128 159 81\n",
      "128 159 81\n",
      "128 159 81\n",
      "128 159 81\n",
      "128 159 81\n",
      "128 159 81\n",
      "128 159 81\n",
      "128 159 81\n",
      "128 159 81\n",
      "128 159 81\n",
      "128 159 81\n",
      "128 159 81\n",
      "128 159 81\n",
      "128 159 81\n",
      "128 159 81\n",
      "128 159 81\n",
      "128 159 81\n",
      "128 159 81\n",
      "128 159 81\n",
      "128 159 81\n",
      "128 159 81\n",
      "128 159 81\n",
      "128 159 81\n",
      "128 159 81\n",
      "128 159 81\n",
      "128 159 81\n",
      "128 159 81\n",
      "128 159 81\n",
      "128 159 81\n",
      "128 159 81\n",
      "128 159 81\n",
      "128 159 81\n",
      "128 159 81\n",
      "128 159 81\n",
      "128 159 81\n",
      "128 159 81\n",
      "128 159 81\n",
      "128 159 81\n",
      "128 159 81\n",
      "128 159 81\n",
      "128 159 81\n",
      "128 159 81\n",
      "128 159 81\n",
      "128 159 81\n",
      "128 159 81\n",
      "128 159 81\n",
      "128 159 81\n",
      "128 159 81\n",
      "128 159 81\n",
      "128 159 81\n",
      "128 159 81\n",
      "128 159 81\n",
      "128 159 81\n",
      "128 159 81\n",
      "128 159 81\n",
      "128 159 81\n",
      "128 159 81\n",
      "128 159 81\n",
      "128 159 81\n",
      "128 159 81\n",
      "128 159 81\n",
      "128 159 81\n",
      "128 159 81\n",
      "128 159 81\n",
      "128 159 81\n",
      "128 159 81\n",
      "128 159 81\n",
      "128 159 81\n",
      "128 159 81\n",
      "128 159 81\n",
      "128 159 81\n",
      "128 159 81\n",
      "128 159 81\n",
      "128 159 81\n",
      "128 159 81\n",
      "128 159 81\n",
      "128 159 81\n",
      "128 159 81\n",
      "128 159 81\n",
      "128 159 81\n",
      "128 159 81\n",
      "128 159 81\n",
      "128 159 81\n",
      "128 159 81\n",
      "128 159 81\n",
      "128 159 81\n",
      "128 159 81\n",
      "128 159 81\n",
      "128 159 81\n",
      "128 159 81\n",
      "128 159 81\n",
      "128 159 81\n",
      "128 159 81\n",
      "128 159 81\n",
      "128 159 81\n",
      "128 159 81\n",
      "128 159 81\n",
      "128 159 81\n",
      "128 159 81\n",
      "128 159 81\n",
      "128 159 81\n",
      "128 159 81\n",
      "128 159 81\n",
      "128 159 81\n",
      "128 159 81\n",
      "128 159 81\n",
      "128 159 81\n",
      "128 159 81\n",
      "128 159 81\n",
      "128 159 81\n",
      "128 159 81\n",
      "128 159 81\n",
      "128 159 81\n",
      "128 159 81\n",
      "128 159 81\n",
      "128 159 81\n",
      "128 159 81\n",
      "128 159 81\n",
      "128 159 81\n",
      "128 159 81\n",
      "128 159 81\n",
      "128 159 81\n",
      "128 159 81\n",
      "128 159 81\n",
      "128 159 81\n",
      "128 159 81\n",
      "128 159 81\n",
      "128 159 81\n",
      "128 159 81\n",
      "128 159 81\n",
      "128 159 81\n",
      "128 159 81\n",
      "128 159 81\n",
      "128 159 81\n",
      "128 159 81\n",
      "128 159 81\n",
      "128 159 81\n",
      "128 159 81\n",
      "128 159 81\n",
      "128 159 81\n",
      "128 159 81\n",
      "128 159 81\n",
      "128 159 81\n",
      "128 159 81\n",
      "128 159 81\n",
      "128 159 81\n",
      "128 159 81\n",
      "128 159 81\n",
      "128 159 81\n",
      "128 159 81\n",
      "128 159 81\n",
      "128 159 81\n",
      "128 159 81\n",
      "128 159 81\n",
      "128 159 81\n",
      "128 159 81\n",
      "128 159 81\n",
      "128 159 81\n",
      "128 159 81\n",
      "128 159 81\n",
      "128 159 81\n",
      "128 159 81\n",
      "128 159 81\n",
      "128 159 81\n",
      "128 159 81\n",
      "128 159 81\n",
      "128 159 81\n",
      "128 159 81\n",
      "128 159 81\n",
      "128 159 81\n",
      "128 159 81\n",
      "128 159 81\n",
      "128 159 81\n",
      "128 159 81\n",
      "128 159 81\n",
      "128 159 81\n",
      "128 159 81\n",
      "128 159 81\n",
      "128 159 81\n",
      "128 159 81\n",
      "128 159 81\n",
      "128 159 81\n",
      "128 159 81\n",
      "128 159 81\n",
      "128 159 81\n",
      "128 159 81\n",
      "128 159 81\n",
      "128 159 81\n",
      "128 159 81\n",
      "128 159 81\n",
      "128 159 81\n",
      "128 159 81\n",
      "128 159 81\n",
      "128 159 81\n",
      "128 159 81\n",
      "128 159 81\n"
     ]
    }
   ],
   "source": [
    "if __name__ == \"__main__\":\n",
    "    main()"
   ]
  },
  {
   "cell_type": "code",
   "execution_count": null,
   "metadata": {},
   "outputs": [],
   "source": []
  }
 ],
 "metadata": {
  "kernelspec": {
   "display_name": "Python 3",
   "language": "python",
   "name": "python3"
  },
  "language_info": {
   "codemirror_mode": {
    "name": "ipython",
    "version": 3
   },
   "file_extension": ".py",
   "mimetype": "text/x-python",
   "name": "python",
   "nbconvert_exporter": "python",
   "pygments_lexer": "ipython3",
   "version": "3.6.8"
  }
 },
 "nbformat": 4,
 "nbformat_minor": 2
}
